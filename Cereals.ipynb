{
 "cells": [
  {
   "cell_type": "markdown",
   "metadata": {
    "toc": true
   },
   "source": [
    "<h1>Table of Contents<span class=\"tocSkip\"></span></h1>\n",
    "<div class=\"toc\"><ul class=\"toc-item\"><li><span><a href=\"#Cereals-Dataset\" data-toc-modified-id=\"Cereals-Dataset-1\"><span class=\"toc-item-num\">1&nbsp;&nbsp;</span>Cereals Dataset</a></span></li><li><span><a href=\"#Import-the-required-libraries\" data-toc-modified-id=\"Import-the-required-libraries-2\"><span class=\"toc-item-num\">2&nbsp;&nbsp;</span>Import the required libraries</a></span></li><li><span><a href=\"#Reading-data\" data-toc-modified-id=\"Reading-data-3\"><span class=\"toc-item-num\">3&nbsp;&nbsp;</span>Reading data</a></span></li><li><span><a href=\"#Data-Understanding\" data-toc-modified-id=\"Data-Understanding-4\"><span class=\"toc-item-num\">4&nbsp;&nbsp;</span>Data Understanding</a></span><ul class=\"toc-item\"><li><span><a href=\"#Number-of-records-and-attributes\" data-toc-modified-id=\"Number-of-records-and-attributes-4.1\"><span class=\"toc-item-num\">4.1&nbsp;&nbsp;</span>Number of records and attributes</a></span></li><li><span><a href=\"#First-and-last-5-records\" data-toc-modified-id=\"First-and-last-5-records-4.2\"><span class=\"toc-item-num\">4.2&nbsp;&nbsp;</span>First and last 5 records</a></span></li><li><span><a href=\"#Data-type-of-all-the-features\" data-toc-modified-id=\"Data-type-of-all-the-features-4.3\"><span class=\"toc-item-num\">4.3&nbsp;&nbsp;</span>Data type of all the features</a></span></li><li><span><a href=\"#Summary-statistics\" data-toc-modified-id=\"Summary-statistics-4.4\"><span class=\"toc-item-num\">4.4&nbsp;&nbsp;</span>Summary statistics</a></span></li><li><span><a href=\"#Missing-values\" data-toc-modified-id=\"Missing-values-4.5\"><span class=\"toc-item-num\">4.5&nbsp;&nbsp;</span>Missing values</a></span></li></ul></li><li><span><a href=\"#Data-Pre-processing\" data-toc-modified-id=\"Data-Pre-processing-5\"><span class=\"toc-item-num\">5&nbsp;&nbsp;</span>Data Pre-processing</a></span><ul class=\"toc-item\"><li><span><a href=\"#Aggregating-&quot;name&quot;,-&quot;shelf&quot;-and-&quot;rating&quot;-to-make-labels\" data-toc-modified-id=\"Aggregating-&quot;name&quot;,-&quot;shelf&quot;-and-&quot;rating&quot;-to-make-labels-5.1\"><span class=\"toc-item-num\">5.1&nbsp;&nbsp;</span>Aggregating \"name\", \"shelf\" and \"rating\" to make labels</a></span></li><li><span><a href=\"#Drop-name,-shelf-and-rating-attributes\" data-toc-modified-id=\"Drop-name,-shelf-and-rating-attributes-5.2\"><span class=\"toc-item-num\">5.2&nbsp;&nbsp;</span>Drop name, shelf and rating attributes</a></span></li><li><span><a href=\"#Decouple-label-from-the-features\" data-toc-modified-id=\"Decouple-label-from-the-features-5.3\"><span class=\"toc-item-num\">5.3&nbsp;&nbsp;</span>Decouple label from the features</a></span></li><li><span><a href=\"#Imputation\" data-toc-modified-id=\"Imputation-5.4\"><span class=\"toc-item-num\">5.4&nbsp;&nbsp;</span>Imputation</a></span><ul class=\"toc-item\"><li><span><a href=\"#Checking-for-NAs-again\" data-toc-modified-id=\"Checking-for-NAs-again-5.4.1\"><span class=\"toc-item-num\">5.4.1&nbsp;&nbsp;</span>Checking for NAs again</a></span></li></ul></li><li><span><a href=\"#Standardization\" data-toc-modified-id=\"Standardization-5.5\"><span class=\"toc-item-num\">5.5&nbsp;&nbsp;</span>Standardization</a></span></li></ul></li><li><span><a href=\"#Clustering\" data-toc-modified-id=\"Clustering-6\"><span class=\"toc-item-num\">6&nbsp;&nbsp;</span>Clustering</a></span><ul class=\"toc-item\"><li><span><a href=\"#Agglomerative-Clustering\" data-toc-modified-id=\"Agglomerative-Clustering-6.1\"><span class=\"toc-item-num\">6.1&nbsp;&nbsp;</span>Agglomerative Clustering</a></span><ul class=\"toc-item\"><li><span><a href=\"#Preparing-linkage-matrix\" data-toc-modified-id=\"Preparing-linkage-matrix-6.1.1\"><span class=\"toc-item-num\">6.1.1&nbsp;&nbsp;</span>Preparing linkage matrix</a></span></li><li><span><a href=\"#Instantiating-AgglomerativeClustering-object\" data-toc-modified-id=\"Instantiating-AgglomerativeClustering-object-6.1.2\"><span class=\"toc-item-num\">6.1.2&nbsp;&nbsp;</span>Instantiating AgglomerativeClustering object</a></span></li><li><span><a href=\"#Fit-the-hierarchical-clustering-and-return-cluster-labels.\" data-toc-modified-id=\"Fit-the-hierarchical-clustering-and-return-cluster-labels.-6.1.3\"><span class=\"toc-item-num\">6.1.3&nbsp;&nbsp;</span>Fit the hierarchical clustering and return cluster labels.</a></span></li></ul></li><li><span><a href=\"#K-Means-Clustering\" data-toc-modified-id=\"K-Means-Clustering-6.2\"><span class=\"toc-item-num\">6.2&nbsp;&nbsp;</span>K-Means Clustering</a></span><ul class=\"toc-item\"><li><span><a href=\"#Instantiate-KMeans\" data-toc-modified-id=\"Instantiate-KMeans-6.2.1\"><span class=\"toc-item-num\">6.2.1&nbsp;&nbsp;</span>Instantiate KMeans</a></span></li><li><span><a href=\"#Train\" data-toc-modified-id=\"Train-6.2.2\"><span class=\"toc-item-num\">6.2.2&nbsp;&nbsp;</span>Train</a></span></li><li><span><a href=\"#Predict\" data-toc-modified-id=\"Predict-6.2.3\"><span class=\"toc-item-num\">6.2.3&nbsp;&nbsp;</span>Predict</a></span></li><li><span><a href=\"#Inspecting-cluster-centroids-to-understand-average-statistics-of-each-cluster\" data-toc-modified-id=\"Inspecting-cluster-centroids-to-understand-average-statistics-of-each-cluster-6.2.4\"><span class=\"toc-item-num\">6.2.4&nbsp;&nbsp;</span>Inspecting cluster centroids to understand average statistics of each cluster</a></span></li><li><span><a href=\"#Identify-right-number-of-clusters\" data-toc-modified-id=\"Identify-right-number-of-clusters-6.2.5\"><span class=\"toc-item-num\">6.2.5&nbsp;&nbsp;</span>Identify right number of clusters</a></span></li><li><span><a href=\"#Identify-best-K-value-for-K-Means-using-Silhouette-Analysis\" data-toc-modified-id=\"Identify-best-K-value-for-K-Means-using-Silhouette-Analysis-6.2.6\"><span class=\"toc-item-num\">6.2.6&nbsp;&nbsp;</span>Identify best K value for K-Means using Silhouette Analysis</a></span></li><li><span><a href=\"#Note---Higher-the-silhouette-score-better-the-clustering.\" data-toc-modified-id=\"Note---Higher-the-silhouette-score-better-the-clustering.-6.2.7\"><span class=\"toc-item-num\">6.2.7&nbsp;&nbsp;</span>Note - Higher the silhouette score better the clustering.</a></span></li><li><span><a href=\"#Add-Cluster-Labels-to-Original-Data\" data-toc-modified-id=\"Add-Cluster-Labels-to-Original-Data-6.2.8\"><span class=\"toc-item-num\">6.2.8&nbsp;&nbsp;</span>Add Cluster Labels to Original Data</a></span></li><li><span><a href=\"#Post-Process-Clusters\" data-toc-modified-id=\"Post-Process-Clusters-6.2.9\"><span class=\"toc-item-num\">6.2.9&nbsp;&nbsp;</span>Post-Process Clusters</a></span>"
   ]
  },
  {
   "cell_type": "markdown",
   "metadata": {},
   "source": [
    "# Cereals Dataset\n",
    "\n",
    "* name: Name of cereal\n",
    "* calories: calories per serving\n",
    "* protein: grams of protein\n",
    "* fat: grams of fat\n",
    "* sodium: milligrams of sodium\n",
    "* fiber: grams of dietary fiber\n",
    "* carbo: grams of complex carbohydrates\n",
    "* sugars: grams of sugars\n",
    "* potass: milligrams of potassium\n",
    "* vitamins: vitamins and minerals - 0, 25, or 100, indicating the typical percentage of FDA recommended\n",
    "* shelf: display shelf (1, 2, or 3, counting from the floor)\n",
    "* weight: weight in ounces of one serving\n",
    "* cups: number of cups in one serving\n",
    "* rating: rating of the cereals (Possibly from Consumer Reports)"
   ]
  },
  {
   "cell_type": "markdown",
   "metadata": {},
   "source": [
    "# Import the required libraries"
   ]
  },
  {
   "cell_type": "code",
   "execution_count": 71,
   "metadata": {
    "ExecuteTime": {
     "end_time": "2022-06-10T13:31:51.716132Z",
     "start_time": "2022-06-10T13:31:46.380790Z"
    }
   },
   "outputs": [],
   "source": [
    "import pandas as pd\n",
    "import numpy as np\n",
    "\n",
    "from sklearn.impute import SimpleImputer\n",
    "from sklearn.preprocessing import StandardScaler\n",
    "\n",
    "from scipy.cluster.hierarchy import linkage, dendrogram\n",
    "from sklearn.cluster import AgglomerativeClustering, KMeans, DBSCAN\n",
    "\n",
    "from sklearn.metrics import silhouette_samples, silhouette_score\n",
    "import matplotlib.cm as cm\n",
    "\n",
    "import matplotlib.pyplot as plt\n",
    "import seaborn as sns\n",
    "%matplotlib notebook\n",
    "import warnings\n",
    "warnings.filterwarnings('ignore')"
   ]
  },
  {
   "cell_type": "markdown",
   "metadata": {},
   "source": [
    "### Reading data"
   ]
  },
  {
   "cell_type": "code",
   "execution_count": 72,
   "metadata": {
    "ExecuteTime": {
     "end_time": "2022-06-10T13:31:51.757773Z",
     "start_time": "2022-06-10T13:31:51.723714Z"
    }
   },
   "outputs": [],
   "source": [
    "cereals = pd.read_csv('Cereals.csv')"
   ]
  },
  {
   "cell_type": "markdown",
   "metadata": {
    "collapsed": true
   },
   "source": [
    "### Data Understanding"
   ]
  },
  {
   "cell_type": "markdown",
   "metadata": {},
   "source": [
    "#### Number of records and attributes"
   ]
  },
  {
   "cell_type": "code",
   "execution_count": 73,
   "metadata": {
    "ExecuteTime": {
     "end_time": "2022-06-10T13:31:55.256618Z",
     "start_time": "2022-06-10T13:31:55.249995Z"
    }
   },
   "outputs": [
    {
     "data": {
      "text/plain": [
       "(77, 14)"
      ]
     },
     "execution_count": 73,
     "metadata": {},
     "output_type": "execute_result"
    }
   ],
   "source": [
    "cereals.shape"
   ]
  },
  {
   "cell_type": "markdown",
   "metadata": {},
   "source": [
    "#### First and last 5 records"
   ]
  },
  {
   "cell_type": "code",
   "execution_count": 74,
   "metadata": {
    "ExecuteTime": {
     "end_time": "2022-06-10T13:32:05.207576Z",
     "start_time": "2022-06-10T13:32:05.141247Z"
    }
   },
   "outputs": [
    {
     "data": {
      "text/html": [
       "<div>\n",
       "<style scoped>\n",
       "    .dataframe tbody tr th:only-of-type {\n",
       "        vertical-align: middle;\n",
       "    }\n",
       "\n",
       "    .dataframe tbody tr th {\n",
       "        vertical-align: top;\n",
       "    }\n",
       "\n",
       "    .dataframe thead th {\n",
       "        text-align: right;\n",
       "    }\n",
       "</style>\n",
       "<table border=\"1\" class=\"dataframe\">\n",
       "  <thead>\n",
       "    <tr style=\"text-align: right;\">\n",
       "      <th></th>\n",
       "      <th>name</th>\n",
       "      <th>calories</th>\n",
       "      <th>protein</th>\n",
       "      <th>fat</th>\n",
       "      <th>sodium</th>\n",
       "      <th>fiber</th>\n",
       "      <th>carbo</th>\n",
       "      <th>sugars</th>\n",
       "      <th>potass</th>\n",
       "      <th>vitamins</th>\n",
       "      <th>shelf</th>\n",
       "      <th>weight</th>\n",
       "      <th>cups</th>\n",
       "      <th>rating</th>\n",
       "    </tr>\n",
       "  </thead>\n",
       "  <tbody>\n",
       "    <tr>\n",
       "      <th>0</th>\n",
       "      <td>100%_Bran</td>\n",
       "      <td>70</td>\n",
       "      <td>4</td>\n",
       "      <td>1</td>\n",
       "      <td>130</td>\n",
       "      <td>10.0000</td>\n",
       "      <td>5.0000</td>\n",
       "      <td>6.0000</td>\n",
       "      <td>280.0000</td>\n",
       "      <td>25</td>\n",
       "      <td>3</td>\n",
       "      <td>1.0000</td>\n",
       "      <td>0.3300</td>\n",
       "      <td>68.4030</td>\n",
       "    </tr>\n",
       "    <tr>\n",
       "      <th>1</th>\n",
       "      <td>100%_Natural_Bran</td>\n",
       "      <td>120</td>\n",
       "      <td>3</td>\n",
       "      <td>5</td>\n",
       "      <td>15</td>\n",
       "      <td>2.0000</td>\n",
       "      <td>8.0000</td>\n",
       "      <td>8.0000</td>\n",
       "      <td>135.0000</td>\n",
       "      <td>0</td>\n",
       "      <td>3</td>\n",
       "      <td>1.0000</td>\n",
       "      <td>1.0000</td>\n",
       "      <td>33.9837</td>\n",
       "    </tr>\n",
       "    <tr>\n",
       "      <th>2</th>\n",
       "      <td>All-Bran</td>\n",
       "      <td>70</td>\n",
       "      <td>4</td>\n",
       "      <td>1</td>\n",
       "      <td>260</td>\n",
       "      <td>9.0000</td>\n",
       "      <td>7.0000</td>\n",
       "      <td>5.0000</td>\n",
       "      <td>320.0000</td>\n",
       "      <td>25</td>\n",
       "      <td>3</td>\n",
       "      <td>1.0000</td>\n",
       "      <td>0.3300</td>\n",
       "      <td>59.4255</td>\n",
       "    </tr>\n",
       "    <tr>\n",
       "      <th>3</th>\n",
       "      <td>All-Bran_with_Extra_Fiber</td>\n",
       "      <td>50</td>\n",
       "      <td>4</td>\n",
       "      <td>0</td>\n",
       "      <td>140</td>\n",
       "      <td>14.0000</td>\n",
       "      <td>8.0000</td>\n",
       "      <td>0.0000</td>\n",
       "      <td>330.0000</td>\n",
       "      <td>25</td>\n",
       "      <td>3</td>\n",
       "      <td>1.0000</td>\n",
       "      <td>0.5000</td>\n",
       "      <td>93.7049</td>\n",
       "    </tr>\n",
       "    <tr>\n",
       "      <th>4</th>\n",
       "      <td>Almond_Delight</td>\n",
       "      <td>110</td>\n",
       "      <td>2</td>\n",
       "      <td>2</td>\n",
       "      <td>200</td>\n",
       "      <td>1.0000</td>\n",
       "      <td>14.0000</td>\n",
       "      <td>8.0000</td>\n",
       "      <td>NaN</td>\n",
       "      <td>25</td>\n",
       "      <td>3</td>\n",
       "      <td>1.0000</td>\n",
       "      <td>0.7500</td>\n",
       "      <td>34.3848</td>\n",
       "    </tr>\n",
       "  </tbody>\n",
       "</table>\n",
       "</div>"
      ],
      "text/plain": [
       "                        name  calories  protein  fat  sodium   fiber   carbo  \\\n",
       "0                  100%_Bran        70        4    1     130 10.0000  5.0000   \n",
       "1          100%_Natural_Bran       120        3    5      15  2.0000  8.0000   \n",
       "2                   All-Bran        70        4    1     260  9.0000  7.0000   \n",
       "3  All-Bran_with_Extra_Fiber        50        4    0     140 14.0000  8.0000   \n",
       "4             Almond_Delight       110        2    2     200  1.0000 14.0000   \n",
       "\n",
       "   sugars   potass  vitamins  shelf  weight   cups  rating  \n",
       "0  6.0000 280.0000        25      3  1.0000 0.3300 68.4030  \n",
       "1  8.0000 135.0000         0      3  1.0000 1.0000 33.9837  \n",
       "2  5.0000 320.0000        25      3  1.0000 0.3300 59.4255  \n",
       "3  0.0000 330.0000        25      3  1.0000 0.5000 93.7049  \n",
       "4  8.0000      NaN        25      3  1.0000 0.7500 34.3848  "
      ]
     },
     "execution_count": 74,
     "metadata": {},
     "output_type": "execute_result"
    }
   ],
   "source": [
    "cereals.head()"
   ]
  },
  {
   "cell_type": "code",
   "execution_count": 75,
   "metadata": {
    "ExecuteTime": {
     "end_time": "2022-06-10T13:38:20.570517Z",
     "start_time": "2022-06-10T13:38:20.542851Z"
    }
   },
   "outputs": [
    {
     "data": {
      "text/html": [
       "<div>\n",
       "<style scoped>\n",
       "    .dataframe tbody tr th:only-of-type {\n",
       "        vertical-align: middle;\n",
       "    }\n",
       "\n",
       "    .dataframe tbody tr th {\n",
       "        vertical-align: top;\n",
       "    }\n",
       "\n",
       "    .dataframe thead th {\n",
       "        text-align: right;\n",
       "    }\n",
       "</style>\n",
       "<table border=\"1\" class=\"dataframe\">\n",
       "  <thead>\n",
       "    <tr style=\"text-align: right;\">\n",
       "      <th></th>\n",
       "      <th>name</th>\n",
       "      <th>calories</th>\n",
       "      <th>protein</th>\n",
       "      <th>fat</th>\n",
       "      <th>sodium</th>\n",
       "      <th>fiber</th>\n",
       "      <th>carbo</th>\n",
       "      <th>sugars</th>\n",
       "      <th>potass</th>\n",
       "      <th>vitamins</th>\n",
       "      <th>shelf</th>\n",
       "      <th>weight</th>\n",
       "      <th>cups</th>\n",
       "      <th>rating</th>\n",
       "    </tr>\n",
       "  </thead>\n",
       "  <tbody>\n",
       "    <tr>\n",
       "      <th>72</th>\n",
       "      <td>Triples</td>\n",
       "      <td>110</td>\n",
       "      <td>2</td>\n",
       "      <td>1</td>\n",
       "      <td>250</td>\n",
       "      <td>0.0000</td>\n",
       "      <td>21.0000</td>\n",
       "      <td>3.0000</td>\n",
       "      <td>60.0000</td>\n",
       "      <td>25</td>\n",
       "      <td>3</td>\n",
       "      <td>1.0000</td>\n",
       "      <td>0.7500</td>\n",
       "      <td>39.1062</td>\n",
       "    </tr>\n",
       "    <tr>\n",
       "      <th>73</th>\n",
       "      <td>Trix</td>\n",
       "      <td>110</td>\n",
       "      <td>1</td>\n",
       "      <td>1</td>\n",
       "      <td>140</td>\n",
       "      <td>0.0000</td>\n",
       "      <td>13.0000</td>\n",
       "      <td>12.0000</td>\n",
       "      <td>25.0000</td>\n",
       "      <td>25</td>\n",
       "      <td>2</td>\n",
       "      <td>1.0000</td>\n",
       "      <td>1.0000</td>\n",
       "      <td>27.7533</td>\n",
       "    </tr>\n",
       "    <tr>\n",
       "      <th>74</th>\n",
       "      <td>Wheat_Chex</td>\n",
       "      <td>100</td>\n",
       "      <td>3</td>\n",
       "      <td>1</td>\n",
       "      <td>230</td>\n",
       "      <td>3.0000</td>\n",
       "      <td>17.0000</td>\n",
       "      <td>3.0000</td>\n",
       "      <td>115.0000</td>\n",
       "      <td>25</td>\n",
       "      <td>1</td>\n",
       "      <td>1.0000</td>\n",
       "      <td>0.6700</td>\n",
       "      <td>49.7874</td>\n",
       "    </tr>\n",
       "    <tr>\n",
       "      <th>75</th>\n",
       "      <td>Wheaties</td>\n",
       "      <td>100</td>\n",
       "      <td>3</td>\n",
       "      <td>1</td>\n",
       "      <td>200</td>\n",
       "      <td>3.0000</td>\n",
       "      <td>17.0000</td>\n",
       "      <td>3.0000</td>\n",
       "      <td>110.0000</td>\n",
       "      <td>25</td>\n",
       "      <td>1</td>\n",
       "      <td>1.0000</td>\n",
       "      <td>1.0000</td>\n",
       "      <td>51.5922</td>\n",
       "    </tr>\n",
       "    <tr>\n",
       "      <th>76</th>\n",
       "      <td>Wheaties_Honey_Gold</td>\n",
       "      <td>110</td>\n",
       "      <td>2</td>\n",
       "      <td>1</td>\n",
       "      <td>200</td>\n",
       "      <td>1.0000</td>\n",
       "      <td>16.0000</td>\n",
       "      <td>8.0000</td>\n",
       "      <td>60.0000</td>\n",
       "      <td>25</td>\n",
       "      <td>1</td>\n",
       "      <td>1.0000</td>\n",
       "      <td>0.7500</td>\n",
       "      <td>36.1876</td>\n",
       "    </tr>\n",
       "  </tbody>\n",
       "</table>\n",
       "</div>"
      ],
      "text/plain": [
       "                   name  calories  protein  fat  sodium  fiber   carbo  \\\n",
       "72              Triples       110        2    1     250 0.0000 21.0000   \n",
       "73                 Trix       110        1    1     140 0.0000 13.0000   \n",
       "74           Wheat_Chex       100        3    1     230 3.0000 17.0000   \n",
       "75             Wheaties       100        3    1     200 3.0000 17.0000   \n",
       "76  Wheaties_Honey_Gold       110        2    1     200 1.0000 16.0000   \n",
       "\n",
       "    sugars   potass  vitamins  shelf  weight   cups  rating  \n",
       "72  3.0000  60.0000        25      3  1.0000 0.7500 39.1062  \n",
       "73 12.0000  25.0000        25      2  1.0000 1.0000 27.7533  \n",
       "74  3.0000 115.0000        25      1  1.0000 0.6700 49.7874  \n",
       "75  3.0000 110.0000        25      1  1.0000 1.0000 51.5922  \n",
       "76  8.0000  60.0000        25      1  1.0000 0.7500 36.1876  "
      ]
     },
     "execution_count": 75,
     "metadata": {},
     "output_type": "execute_result"
    }
   ],
   "source": [
    "cereals.tail()"
   ]
  },
  {
   "cell_type": "markdown",
   "metadata": {},
   "source": [
    "#### Data type of all the features"
   ]
  },
  {
   "cell_type": "code",
   "execution_count": 76,
   "metadata": {
    "ExecuteTime": {
     "end_time": "2022-06-10T13:38:46.820249Z",
     "start_time": "2022-06-10T13:38:46.804553Z"
    }
   },
   "outputs": [
    {
     "data": {
      "text/plain": [
       "name         object\n",
       "calories      int64\n",
       "protein       int64\n",
       "fat           int64\n",
       "sodium        int64\n",
       "fiber       float64\n",
       "carbo       float64\n",
       "sugars      float64\n",
       "potass      float64\n",
       "vitamins      int64\n",
       "shelf         int64\n",
       "weight      float64\n",
       "cups        float64\n",
       "rating      float64\n",
       "dtype: object"
      ]
     },
     "execution_count": 76,
     "metadata": {},
     "output_type": "execute_result"
    }
   ],
   "source": [
    "cereals.dtypes"
   ]
  },
  {
   "cell_type": "markdown",
   "metadata": {},
   "source": [
    "#### Summary statistics"
   ]
  },
  {
   "cell_type": "code",
   "execution_count": 77,
   "metadata": {
    "ExecuteTime": {
     "end_time": "2022-06-10T13:39:49.782637Z",
     "start_time": "2022-06-10T13:39:49.370022Z"
    }
   },
   "outputs": [
    {
     "data": {
      "text/html": [
       "<div>\n",
       "<style scoped>\n",
       "    .dataframe tbody tr th:only-of-type {\n",
       "        vertical-align: middle;\n",
       "    }\n",
       "\n",
       "    .dataframe tbody tr th {\n",
       "        vertical-align: top;\n",
       "    }\n",
       "\n",
       "    .dataframe thead th {\n",
       "        text-align: right;\n",
       "    }\n",
       "</style>\n",
       "<table border=\"1\" class=\"dataframe\">\n",
       "  <thead>\n",
       "    <tr style=\"text-align: right;\">\n",
       "      <th></th>\n",
       "      <th>name</th>\n",
       "      <th>calories</th>\n",
       "      <th>protein</th>\n",
       "      <th>fat</th>\n",
       "      <th>sodium</th>\n",
       "      <th>fiber</th>\n",
       "      <th>carbo</th>\n",
       "      <th>sugars</th>\n",
       "      <th>potass</th>\n",
       "      <th>vitamins</th>\n",
       "      <th>shelf</th>\n",
       "      <th>weight</th>\n",
       "      <th>cups</th>\n",
       "      <th>rating</th>\n",
       "    </tr>\n",
       "  </thead>\n",
       "  <tbody>\n",
       "    <tr>\n",
       "      <th>count</th>\n",
       "      <td>77</td>\n",
       "      <td>77.0000</td>\n",
       "      <td>77.0000</td>\n",
       "      <td>77.0000</td>\n",
       "      <td>77.0000</td>\n",
       "      <td>77.0000</td>\n",
       "      <td>76.0000</td>\n",
       "      <td>76.0000</td>\n",
       "      <td>75.0000</td>\n",
       "      <td>77.0000</td>\n",
       "      <td>77.0000</td>\n",
       "      <td>77.0000</td>\n",
       "      <td>77.0000</td>\n",
       "      <td>77.0000</td>\n",
       "    </tr>\n",
       "    <tr>\n",
       "      <th>unique</th>\n",
       "      <td>77</td>\n",
       "      <td>NaN</td>\n",
       "      <td>NaN</td>\n",
       "      <td>NaN</td>\n",
       "      <td>NaN</td>\n",
       "      <td>NaN</td>\n",
       "      <td>NaN</td>\n",
       "      <td>NaN</td>\n",
       "      <td>NaN</td>\n",
       "      <td>NaN</td>\n",
       "      <td>NaN</td>\n",
       "      <td>NaN</td>\n",
       "      <td>NaN</td>\n",
       "      <td>NaN</td>\n",
       "    </tr>\n",
       "    <tr>\n",
       "      <th>top</th>\n",
       "      <td>100%_Bran</td>\n",
       "      <td>NaN</td>\n",
       "      <td>NaN</td>\n",
       "      <td>NaN</td>\n",
       "      <td>NaN</td>\n",
       "      <td>NaN</td>\n",
       "      <td>NaN</td>\n",
       "      <td>NaN</td>\n",
       "      <td>NaN</td>\n",
       "      <td>NaN</td>\n",
       "      <td>NaN</td>\n",
       "      <td>NaN</td>\n",
       "      <td>NaN</td>\n",
       "      <td>NaN</td>\n",
       "    </tr>\n",
       "    <tr>\n",
       "      <th>freq</th>\n",
       "      <td>1</td>\n",
       "      <td>NaN</td>\n",
       "      <td>NaN</td>\n",
       "      <td>NaN</td>\n",
       "      <td>NaN</td>\n",
       "      <td>NaN</td>\n",
       "      <td>NaN</td>\n",
       "      <td>NaN</td>\n",
       "      <td>NaN</td>\n",
       "      <td>NaN</td>\n",
       "      <td>NaN</td>\n",
       "      <td>NaN</td>\n",
       "      <td>NaN</td>\n",
       "      <td>NaN</td>\n",
       "    </tr>\n",
       "    <tr>\n",
       "      <th>mean</th>\n",
       "      <td>NaN</td>\n",
       "      <td>106.8831</td>\n",
       "      <td>2.5455</td>\n",
       "      <td>1.0130</td>\n",
       "      <td>159.6753</td>\n",
       "      <td>2.1519</td>\n",
       "      <td>14.8026</td>\n",
       "      <td>7.0263</td>\n",
       "      <td>98.6667</td>\n",
       "      <td>28.2468</td>\n",
       "      <td>2.2078</td>\n",
       "      <td>1.0296</td>\n",
       "      <td>0.8210</td>\n",
       "      <td>42.6657</td>\n",
       "    </tr>\n",
       "    <tr>\n",
       "      <th>std</th>\n",
       "      <td>NaN</td>\n",
       "      <td>19.4841</td>\n",
       "      <td>1.0948</td>\n",
       "      <td>1.0065</td>\n",
       "      <td>83.8323</td>\n",
       "      <td>2.3834</td>\n",
       "      <td>3.9073</td>\n",
       "      <td>4.3787</td>\n",
       "      <td>70.4106</td>\n",
       "      <td>22.3425</td>\n",
       "      <td>0.8325</td>\n",
       "      <td>0.1505</td>\n",
       "      <td>0.2327</td>\n",
       "      <td>14.0473</td>\n",
       "    </tr>\n",
       "    <tr>\n",
       "      <th>min</th>\n",
       "      <td>NaN</td>\n",
       "      <td>50.0000</td>\n",
       "      <td>1.0000</td>\n",
       "      <td>0.0000</td>\n",
       "      <td>0.0000</td>\n",
       "      <td>0.0000</td>\n",
       "      <td>5.0000</td>\n",
       "      <td>0.0000</td>\n",
       "      <td>15.0000</td>\n",
       "      <td>0.0000</td>\n",
       "      <td>1.0000</td>\n",
       "      <td>0.5000</td>\n",
       "      <td>0.2500</td>\n",
       "      <td>18.0429</td>\n",
       "    </tr>\n",
       "    <tr>\n",
       "      <th>25%</th>\n",
       "      <td>NaN</td>\n",
       "      <td>100.0000</td>\n",
       "      <td>2.0000</td>\n",
       "      <td>0.0000</td>\n",
       "      <td>130.0000</td>\n",
       "      <td>1.0000</td>\n",
       "      <td>12.0000</td>\n",
       "      <td>3.0000</td>\n",
       "      <td>42.5000</td>\n",
       "      <td>25.0000</td>\n",
       "      <td>1.0000</td>\n",
       "      <td>1.0000</td>\n",
       "      <td>0.6700</td>\n",
       "      <td>33.1741</td>\n",
       "    </tr>\n",
       "    <tr>\n",
       "      <th>50%</th>\n",
       "      <td>NaN</td>\n",
       "      <td>110.0000</td>\n",
       "      <td>3.0000</td>\n",
       "      <td>1.0000</td>\n",
       "      <td>180.0000</td>\n",
       "      <td>2.0000</td>\n",
       "      <td>14.5000</td>\n",
       "      <td>7.0000</td>\n",
       "      <td>90.0000</td>\n",
       "      <td>25.0000</td>\n",
       "      <td>2.0000</td>\n",
       "      <td>1.0000</td>\n",
       "      <td>0.7500</td>\n",
       "      <td>40.4002</td>\n",
       "    </tr>\n",
       "    <tr>\n",
       "      <th>75%</th>\n",
       "      <td>NaN</td>\n",
       "      <td>110.0000</td>\n",
       "      <td>3.0000</td>\n",
       "      <td>2.0000</td>\n",
       "      <td>210.0000</td>\n",
       "      <td>3.0000</td>\n",
       "      <td>17.0000</td>\n",
       "      <td>11.0000</td>\n",
       "      <td>120.0000</td>\n",
       "      <td>25.0000</td>\n",
       "      <td>3.0000</td>\n",
       "      <td>1.0000</td>\n",
       "      <td>1.0000</td>\n",
       "      <td>50.8284</td>\n",
       "    </tr>\n",
       "    <tr>\n",
       "      <th>max</th>\n",
       "      <td>NaN</td>\n",
       "      <td>160.0000</td>\n",
       "      <td>6.0000</td>\n",
       "      <td>5.0000</td>\n",
       "      <td>320.0000</td>\n",
       "      <td>14.0000</td>\n",
       "      <td>23.0000</td>\n",
       "      <td>15.0000</td>\n",
       "      <td>330.0000</td>\n",
       "      <td>100.0000</td>\n",
       "      <td>3.0000</td>\n",
       "      <td>1.5000</td>\n",
       "      <td>1.5000</td>\n",
       "      <td>93.7049</td>\n",
       "    </tr>\n",
       "  </tbody>\n",
       "</table>\n",
       "</div>"
      ],
      "text/plain": [
       "             name  calories  protein     fat   sodium   fiber   carbo  sugars  \\\n",
       "count          77   77.0000  77.0000 77.0000  77.0000 77.0000 76.0000 76.0000   \n",
       "unique         77       NaN      NaN     NaN      NaN     NaN     NaN     NaN   \n",
       "top     100%_Bran       NaN      NaN     NaN      NaN     NaN     NaN     NaN   \n",
       "freq            1       NaN      NaN     NaN      NaN     NaN     NaN     NaN   \n",
       "mean          NaN  106.8831   2.5455  1.0130 159.6753  2.1519 14.8026  7.0263   \n",
       "std           NaN   19.4841   1.0948  1.0065  83.8323  2.3834  3.9073  4.3787   \n",
       "min           NaN   50.0000   1.0000  0.0000   0.0000  0.0000  5.0000  0.0000   \n",
       "25%           NaN  100.0000   2.0000  0.0000 130.0000  1.0000 12.0000  3.0000   \n",
       "50%           NaN  110.0000   3.0000  1.0000 180.0000  2.0000 14.5000  7.0000   \n",
       "75%           NaN  110.0000   3.0000  2.0000 210.0000  3.0000 17.0000 11.0000   \n",
       "max           NaN  160.0000   6.0000  5.0000 320.0000 14.0000 23.0000 15.0000   \n",
       "\n",
       "         potass  vitamins   shelf  weight    cups  rating  \n",
       "count   75.0000   77.0000 77.0000 77.0000 77.0000 77.0000  \n",
       "unique      NaN       NaN     NaN     NaN     NaN     NaN  \n",
       "top         NaN       NaN     NaN     NaN     NaN     NaN  \n",
       "freq        NaN       NaN     NaN     NaN     NaN     NaN  \n",
       "mean    98.6667   28.2468  2.2078  1.0296  0.8210 42.6657  \n",
       "std     70.4106   22.3425  0.8325  0.1505  0.2327 14.0473  \n",
       "min     15.0000    0.0000  1.0000  0.5000  0.2500 18.0429  \n",
       "25%     42.5000   25.0000  1.0000  1.0000  0.6700 33.1741  \n",
       "50%     90.0000   25.0000  2.0000  1.0000  0.7500 40.4002  \n",
       "75%    120.0000   25.0000  3.0000  1.0000  1.0000 50.8284  \n",
       "max    330.0000  100.0000  3.0000  1.5000  1.5000 93.7049  "
      ]
     },
     "execution_count": 77,
     "metadata": {},
     "output_type": "execute_result"
    }
   ],
   "source": [
    "cereals.describe(include='all')"
   ]
  },
  {
   "cell_type": "markdown",
   "metadata": {},
   "source": [
    "### Missing values"
   ]
  },
  {
   "cell_type": "code",
   "execution_count": 78,
   "metadata": {
    "ExecuteTime": {
     "end_time": "2022-06-10T13:41:15.610759Z",
     "start_time": "2022-06-10T13:41:15.593485Z"
    }
   },
   "outputs": [
    {
     "data": {
      "text/plain": [
       "name        0\n",
       "calories    0\n",
       "protein     0\n",
       "fat         0\n",
       "sodium      0\n",
       "fiber       0\n",
       "carbo       1\n",
       "sugars      1\n",
       "potass      2\n",
       "vitamins    0\n",
       "shelf       0\n",
       "weight      0\n",
       "cups        0\n",
       "rating      0\n",
       "dtype: int64"
      ]
     },
     "execution_count": 78,
     "metadata": {},
     "output_type": "execute_result"
    }
   ],
   "source": [
    "cereals.isnull().sum()"
   ]
  },
  {
   "cell_type": "markdown",
   "metadata": {},
   "source": [
    "### Data Pre-processing"
   ]
  },
  {
   "cell_type": "markdown",
   "metadata": {},
   "source": [
    "#### Aggregating \"name\", \"shelf\" and \"rating\" to make labels"
   ]
  },
  {
   "cell_type": "code",
   "execution_count": 79,
   "metadata": {
    "ExecuteTime": {
     "end_time": "2022-06-10T13:45:52.932409Z",
     "start_time": "2022-06-10T13:45:52.918420Z"
    }
   },
   "outputs": [
    {
     "data": {
      "text/html": [
       "<div>\n",
       "<style scoped>\n",
       "    .dataframe tbody tr th:only-of-type {\n",
       "        vertical-align: middle;\n",
       "    }\n",
       "\n",
       "    .dataframe tbody tr th {\n",
       "        vertical-align: top;\n",
       "    }\n",
       "\n",
       "    .dataframe thead th {\n",
       "        text-align: right;\n",
       "    }\n",
       "</style>\n",
       "<table border=\"1\" class=\"dataframe\">\n",
       "  <thead>\n",
       "    <tr style=\"text-align: right;\">\n",
       "      <th></th>\n",
       "      <th>label</th>\n",
       "    </tr>\n",
       "  </thead>\n",
       "  <tbody>\n",
       "    <tr>\n",
       "      <th>0</th>\n",
       "      <td>100%_Bran (3-68.4)</td>\n",
       "    </tr>\n",
       "    <tr>\n",
       "      <th>1</th>\n",
       "      <td>100%_Natural_Bran (3-34.0)</td>\n",
       "    </tr>\n",
       "    <tr>\n",
       "      <th>2</th>\n",
       "      <td>All-Bran (3-59.4)</td>\n",
       "    </tr>\n",
       "    <tr>\n",
       "      <th>3</th>\n",
       "      <td>All-Bran_with_Extra_Fiber (3-93.7)</td>\n",
       "    </tr>\n",
       "    <tr>\n",
       "      <th>4</th>\n",
       "      <td>Almond_Delight (3-34.4)</td>\n",
       "    </tr>\n",
       "    <tr>\n",
       "      <th>...</th>\n",
       "      <td>...</td>\n",
       "    </tr>\n",
       "    <tr>\n",
       "      <th>72</th>\n",
       "      <td>Triples (3-39.1)</td>\n",
       "    </tr>\n",
       "    <tr>\n",
       "      <th>73</th>\n",
       "      <td>Trix (2-27.8)</td>\n",
       "    </tr>\n",
       "    <tr>\n",
       "      <th>74</th>\n",
       "      <td>Wheat_Chex (1-49.8)</td>\n",
       "    </tr>\n",
       "    <tr>\n",
       "      <th>75</th>\n",
       "      <td>Wheaties (1-51.6)</td>\n",
       "    </tr>\n",
       "    <tr>\n",
       "      <th>76</th>\n",
       "      <td>Wheaties_Honey_Gold (1-36.2)</td>\n",
       "    </tr>\n",
       "  </tbody>\n",
       "</table>\n",
       "<p>77 rows × 1 columns</p>\n",
       "</div>"
      ],
      "text/plain": [
       "                                 label\n",
       "0                   100%_Bran (3-68.4)\n",
       "1           100%_Natural_Bran (3-34.0)\n",
       "2                    All-Bran (3-59.4)\n",
       "3   All-Bran_with_Extra_Fiber (3-93.7)\n",
       "4              Almond_Delight (3-34.4)\n",
       "..                                 ...\n",
       "72                    Triples (3-39.1)\n",
       "73                       Trix (2-27.8)\n",
       "74                 Wheat_Chex (1-49.8)\n",
       "75                   Wheaties (1-51.6)\n",
       "76        Wheaties_Honey_Gold (1-36.2)\n",
       "\n",
       "[77 rows x 1 columns]"
      ]
     },
     "execution_count": 79,
     "metadata": {},
     "output_type": "execute_result"
    }
   ],
   "source": [
    "cereals['label'] = cereals.apply(lambda x:'%s (%s-%.1f)' % (x['name'],x['shelf'],x['rating']),\n",
    "                                 axis=1)\n",
    "\n",
    "\n",
    "cereals[['label']]"
   ]
  },
  {
   "cell_type": "code",
   "execution_count": 80,
   "metadata": {},
   "outputs": [
    {
     "data": {
      "text/html": [
       "<div>\n",
       "<style scoped>\n",
       "    .dataframe tbody tr th:only-of-type {\n",
       "        vertical-align: middle;\n",
       "    }\n",
       "\n",
       "    .dataframe tbody tr th {\n",
       "        vertical-align: top;\n",
       "    }\n",
       "\n",
       "    .dataframe thead th {\n",
       "        text-align: right;\n",
       "    }\n",
       "</style>\n",
       "<table border=\"1\" class=\"dataframe\">\n",
       "  <thead>\n",
       "    <tr style=\"text-align: right;\">\n",
       "      <th></th>\n",
       "      <th>name</th>\n",
       "      <th>calories</th>\n",
       "      <th>protein</th>\n",
       "      <th>fat</th>\n",
       "      <th>sodium</th>\n",
       "      <th>fiber</th>\n",
       "      <th>carbo</th>\n",
       "      <th>sugars</th>\n",
       "      <th>potass</th>\n",
       "      <th>vitamins</th>\n",
       "      <th>shelf</th>\n",
       "      <th>weight</th>\n",
       "      <th>cups</th>\n",
       "      <th>rating</th>\n",
       "      <th>label</th>\n",
       "    </tr>\n",
       "  </thead>\n",
       "  <tbody>\n",
       "    <tr>\n",
       "      <th>0</th>\n",
       "      <td>100%_Bran</td>\n",
       "      <td>70</td>\n",
       "      <td>4</td>\n",
       "      <td>1</td>\n",
       "      <td>130</td>\n",
       "      <td>10.0000</td>\n",
       "      <td>5.0000</td>\n",
       "      <td>6.0000</td>\n",
       "      <td>280.0000</td>\n",
       "      <td>25</td>\n",
       "      <td>3</td>\n",
       "      <td>1.0000</td>\n",
       "      <td>0.3300</td>\n",
       "      <td>68.4030</td>\n",
       "      <td>100%_Bran (3-68.4)</td>\n",
       "    </tr>\n",
       "    <tr>\n",
       "      <th>1</th>\n",
       "      <td>100%_Natural_Bran</td>\n",
       "      <td>120</td>\n",
       "      <td>3</td>\n",
       "      <td>5</td>\n",
       "      <td>15</td>\n",
       "      <td>2.0000</td>\n",
       "      <td>8.0000</td>\n",
       "      <td>8.0000</td>\n",
       "      <td>135.0000</td>\n",
       "      <td>0</td>\n",
       "      <td>3</td>\n",
       "      <td>1.0000</td>\n",
       "      <td>1.0000</td>\n",
       "      <td>33.9837</td>\n",
       "      <td>100%_Natural_Bran (3-34.0)</td>\n",
       "    </tr>\n",
       "    <tr>\n",
       "      <th>2</th>\n",
       "      <td>All-Bran</td>\n",
       "      <td>70</td>\n",
       "      <td>4</td>\n",
       "      <td>1</td>\n",
       "      <td>260</td>\n",
       "      <td>9.0000</td>\n",
       "      <td>7.0000</td>\n",
       "      <td>5.0000</td>\n",
       "      <td>320.0000</td>\n",
       "      <td>25</td>\n",
       "      <td>3</td>\n",
       "      <td>1.0000</td>\n",
       "      <td>0.3300</td>\n",
       "      <td>59.4255</td>\n",
       "      <td>All-Bran (3-59.4)</td>\n",
       "    </tr>\n",
       "    <tr>\n",
       "      <th>3</th>\n",
       "      <td>All-Bran_with_Extra_Fiber</td>\n",
       "      <td>50</td>\n",
       "      <td>4</td>\n",
       "      <td>0</td>\n",
       "      <td>140</td>\n",
       "      <td>14.0000</td>\n",
       "      <td>8.0000</td>\n",
       "      <td>0.0000</td>\n",
       "      <td>330.0000</td>\n",
       "      <td>25</td>\n",
       "      <td>3</td>\n",
       "      <td>1.0000</td>\n",
       "      <td>0.5000</td>\n",
       "      <td>93.7049</td>\n",
       "      <td>All-Bran_with_Extra_Fiber (3-93.7)</td>\n",
       "    </tr>\n",
       "    <tr>\n",
       "      <th>4</th>\n",
       "      <td>Almond_Delight</td>\n",
       "      <td>110</td>\n",
       "      <td>2</td>\n",
       "      <td>2</td>\n",
       "      <td>200</td>\n",
       "      <td>1.0000</td>\n",
       "      <td>14.0000</td>\n",
       "      <td>8.0000</td>\n",
       "      <td>NaN</td>\n",
       "      <td>25</td>\n",
       "      <td>3</td>\n",
       "      <td>1.0000</td>\n",
       "      <td>0.7500</td>\n",
       "      <td>34.3848</td>\n",
       "      <td>Almond_Delight (3-34.4)</td>\n",
       "    </tr>\n",
       "  </tbody>\n",
       "</table>\n",
       "</div>"
      ],
      "text/plain": [
       "                        name  calories  protein  fat  sodium   fiber   carbo  \\\n",
       "0                  100%_Bran        70        4    1     130 10.0000  5.0000   \n",
       "1          100%_Natural_Bran       120        3    5      15  2.0000  8.0000   \n",
       "2                   All-Bran        70        4    1     260  9.0000  7.0000   \n",
       "3  All-Bran_with_Extra_Fiber        50        4    0     140 14.0000  8.0000   \n",
       "4             Almond_Delight       110        2    2     200  1.0000 14.0000   \n",
       "\n",
       "   sugars   potass  vitamins  shelf  weight   cups  rating  \\\n",
       "0  6.0000 280.0000        25      3  1.0000 0.3300 68.4030   \n",
       "1  8.0000 135.0000         0      3  1.0000 1.0000 33.9837   \n",
       "2  5.0000 320.0000        25      3  1.0000 0.3300 59.4255   \n",
       "3  0.0000 330.0000        25      3  1.0000 0.5000 93.7049   \n",
       "4  8.0000      NaN        25      3  1.0000 0.7500 34.3848   \n",
       "\n",
       "                                label  \n",
       "0                  100%_Bran (3-68.4)  \n",
       "1          100%_Natural_Bran (3-34.0)  \n",
       "2                   All-Bran (3-59.4)  \n",
       "3  All-Bran_with_Extra_Fiber (3-93.7)  \n",
       "4             Almond_Delight (3-34.4)  "
      ]
     },
     "execution_count": 80,
     "metadata": {},
     "output_type": "execute_result"
    }
   ],
   "source": [
    "cereals.head()"
   ]
  },
  {
   "cell_type": "code",
   "execution_count": 81,
   "metadata": {
    "ExecuteTime": {
     "end_time": "2022-06-10T13:45:28.727983Z",
     "start_time": "2022-06-10T13:45:28.686222Z"
    }
   },
   "outputs": [
    {
     "data": {
      "text/plain": [
       "0                     100%_Bran (3 - 68.40)\n",
       "1             100%_Natural_Bran (3 - 33.98)\n",
       "2                      All-Bran (3 - 59.43)\n",
       "3     All-Bran_with_Extra_Fiber (3 - 93.70)\n",
       "4                Almond_Delight (3 - 34.38)\n",
       "                      ...                  \n",
       "72                      Triples (3 - 39.11)\n",
       "73                         Trix (2 - 27.75)\n",
       "74                   Wheat_Chex (1 - 49.79)\n",
       "75                     Wheaties (1 - 51.59)\n",
       "76          Wheaties_Honey_Gold (1 - 36.19)\n",
       "Length: 77, dtype: object"
      ]
     },
     "execution_count": 81,
     "metadata": {},
     "output_type": "execute_result"
    }
   ],
   "source": [
    "cereals.apply(lambda x:'%s (%s - %.2f)' % (x['name'],x['shelf'],x['rating'] ),axis=1)"
   ]
  },
  {
   "cell_type": "code",
   "execution_count": 82,
   "metadata": {
    "ExecuteTime": {
     "end_time": "2022-06-10T13:42:00.377042Z",
     "start_time": "2022-06-10T13:42:00.340569Z"
    }
   },
   "outputs": [
    {
     "data": {
      "text/html": [
       "<div>\n",
       "<style scoped>\n",
       "    .dataframe tbody tr th:only-of-type {\n",
       "        vertical-align: middle;\n",
       "    }\n",
       "\n",
       "    .dataframe tbody tr th {\n",
       "        vertical-align: top;\n",
       "    }\n",
       "\n",
       "    .dataframe thead th {\n",
       "        text-align: right;\n",
       "    }\n",
       "</style>\n",
       "<table border=\"1\" class=\"dataframe\">\n",
       "  <thead>\n",
       "    <tr style=\"text-align: right;\">\n",
       "      <th></th>\n",
       "      <th>name</th>\n",
       "      <th>calories</th>\n",
       "      <th>protein</th>\n",
       "      <th>fat</th>\n",
       "      <th>sodium</th>\n",
       "      <th>fiber</th>\n",
       "      <th>carbo</th>\n",
       "      <th>sugars</th>\n",
       "      <th>potass</th>\n",
       "      <th>vitamins</th>\n",
       "      <th>shelf</th>\n",
       "      <th>weight</th>\n",
       "      <th>cups</th>\n",
       "      <th>rating</th>\n",
       "      <th>label</th>\n",
       "    </tr>\n",
       "  </thead>\n",
       "  <tbody>\n",
       "    <tr>\n",
       "      <th>0</th>\n",
       "      <td>100%_Bran</td>\n",
       "      <td>70</td>\n",
       "      <td>4</td>\n",
       "      <td>1</td>\n",
       "      <td>130</td>\n",
       "      <td>10.0000</td>\n",
       "      <td>5.0000</td>\n",
       "      <td>6.0000</td>\n",
       "      <td>280.0000</td>\n",
       "      <td>25</td>\n",
       "      <td>3</td>\n",
       "      <td>1.0000</td>\n",
       "      <td>0.3300</td>\n",
       "      <td>68.4030</td>\n",
       "      <td>100%_Bran (3-68.4)</td>\n",
       "    </tr>\n",
       "    <tr>\n",
       "      <th>1</th>\n",
       "      <td>100%_Natural_Bran</td>\n",
       "      <td>120</td>\n",
       "      <td>3</td>\n",
       "      <td>5</td>\n",
       "      <td>15</td>\n",
       "      <td>2.0000</td>\n",
       "      <td>8.0000</td>\n",
       "      <td>8.0000</td>\n",
       "      <td>135.0000</td>\n",
       "      <td>0</td>\n",
       "      <td>3</td>\n",
       "      <td>1.0000</td>\n",
       "      <td>1.0000</td>\n",
       "      <td>33.9837</td>\n",
       "      <td>100%_Natural_Bran (3-34.0)</td>\n",
       "    </tr>\n",
       "    <tr>\n",
       "      <th>2</th>\n",
       "      <td>All-Bran</td>\n",
       "      <td>70</td>\n",
       "      <td>4</td>\n",
       "      <td>1</td>\n",
       "      <td>260</td>\n",
       "      <td>9.0000</td>\n",
       "      <td>7.0000</td>\n",
       "      <td>5.0000</td>\n",
       "      <td>320.0000</td>\n",
       "      <td>25</td>\n",
       "      <td>3</td>\n",
       "      <td>1.0000</td>\n",
       "      <td>0.3300</td>\n",
       "      <td>59.4255</td>\n",
       "      <td>All-Bran (3-59.4)</td>\n",
       "    </tr>\n",
       "    <tr>\n",
       "      <th>3</th>\n",
       "      <td>All-Bran_with_Extra_Fiber</td>\n",
       "      <td>50</td>\n",
       "      <td>4</td>\n",
       "      <td>0</td>\n",
       "      <td>140</td>\n",
       "      <td>14.0000</td>\n",
       "      <td>8.0000</td>\n",
       "      <td>0.0000</td>\n",
       "      <td>330.0000</td>\n",
       "      <td>25</td>\n",
       "      <td>3</td>\n",
       "      <td>1.0000</td>\n",
       "      <td>0.5000</td>\n",
       "      <td>93.7049</td>\n",
       "      <td>All-Bran_with_Extra_Fiber (3-93.7)</td>\n",
       "    </tr>\n",
       "    <tr>\n",
       "      <th>4</th>\n",
       "      <td>Almond_Delight</td>\n",
       "      <td>110</td>\n",
       "      <td>2</td>\n",
       "      <td>2</td>\n",
       "      <td>200</td>\n",
       "      <td>1.0000</td>\n",
       "      <td>14.0000</td>\n",
       "      <td>8.0000</td>\n",
       "      <td>NaN</td>\n",
       "      <td>25</td>\n",
       "      <td>3</td>\n",
       "      <td>1.0000</td>\n",
       "      <td>0.7500</td>\n",
       "      <td>34.3848</td>\n",
       "      <td>Almond_Delight (3-34.4)</td>\n",
       "    </tr>\n",
       "  </tbody>\n",
       "</table>\n",
       "</div>"
      ],
      "text/plain": [
       "                        name  calories  protein  fat  sodium   fiber   carbo  \\\n",
       "0                  100%_Bran        70        4    1     130 10.0000  5.0000   \n",
       "1          100%_Natural_Bran       120        3    5      15  2.0000  8.0000   \n",
       "2                   All-Bran        70        4    1     260  9.0000  7.0000   \n",
       "3  All-Bran_with_Extra_Fiber        50        4    0     140 14.0000  8.0000   \n",
       "4             Almond_Delight       110        2    2     200  1.0000 14.0000   \n",
       "\n",
       "   sugars   potass  vitamins  shelf  weight   cups  rating  \\\n",
       "0  6.0000 280.0000        25      3  1.0000 0.3300 68.4030   \n",
       "1  8.0000 135.0000         0      3  1.0000 1.0000 33.9837   \n",
       "2  5.0000 320.0000        25      3  1.0000 0.3300 59.4255   \n",
       "3  0.0000 330.0000        25      3  1.0000 0.5000 93.7049   \n",
       "4  8.0000      NaN        25      3  1.0000 0.7500 34.3848   \n",
       "\n",
       "                                label  \n",
       "0                  100%_Bran (3-68.4)  \n",
       "1          100%_Natural_Bran (3-34.0)  \n",
       "2                   All-Bran (3-59.4)  \n",
       "3  All-Bran_with_Extra_Fiber (3-93.7)  \n",
       "4             Almond_Delight (3-34.4)  "
      ]
     },
     "execution_count": 82,
     "metadata": {},
     "output_type": "execute_result"
    }
   ],
   "source": [
    "cereals.head()"
   ]
  },
  {
   "cell_type": "markdown",
   "metadata": {},
   "source": [
    "#### Drop name, shelf and rating attributes"
   ]
  },
  {
   "cell_type": "code",
   "execution_count": 83,
   "metadata": {
    "ExecuteTime": {
     "end_time": "2022-06-10T13:46:47.064713Z",
     "start_time": "2022-06-10T13:46:47.058037Z"
    }
   },
   "outputs": [],
   "source": [
    "cereals.drop(['name','shelf','rating'],axis=1,inplace=True)"
   ]
  },
  {
   "cell_type": "code",
   "execution_count": 84,
   "metadata": {
    "ExecuteTime": {
     "end_time": "2022-06-10T13:46:48.673539Z",
     "start_time": "2022-06-10T13:46:48.663267Z"
    }
   },
   "outputs": [
    {
     "data": {
      "text/plain": [
       "0                     100%_Bran (3-68.4)\n",
       "1             100%_Natural_Bran (3-34.0)\n",
       "2                      All-Bran (3-59.4)\n",
       "3     All-Bran_with_Extra_Fiber (3-93.7)\n",
       "4                Almond_Delight (3-34.4)\n",
       "                     ...                \n",
       "72                      Triples (3-39.1)\n",
       "73                         Trix (2-27.8)\n",
       "74                   Wheat_Chex (1-49.8)\n",
       "75                     Wheaties (1-51.6)\n",
       "76          Wheaties_Honey_Gold (1-36.2)\n",
       "Name: label, Length: 77, dtype: object"
      ]
     },
     "execution_count": 84,
     "metadata": {},
     "output_type": "execute_result"
    }
   ],
   "source": [
    "cereals['label']"
   ]
  },
  {
   "cell_type": "code",
   "execution_count": 85,
   "metadata": {
    "ExecuteTime": {
     "end_time": "2022-06-10T13:47:33.886246Z",
     "start_time": "2022-06-10T13:47:33.847811Z"
    }
   },
   "outputs": [
    {
     "data": {
      "text/html": [
       "<div>\n",
       "<style scoped>\n",
       "    .dataframe tbody tr th:only-of-type {\n",
       "        vertical-align: middle;\n",
       "    }\n",
       "\n",
       "    .dataframe tbody tr th {\n",
       "        vertical-align: top;\n",
       "    }\n",
       "\n",
       "    .dataframe thead th {\n",
       "        text-align: right;\n",
       "    }\n",
       "</style>\n",
       "<table border=\"1\" class=\"dataframe\">\n",
       "  <thead>\n",
       "    <tr style=\"text-align: right;\">\n",
       "      <th></th>\n",
       "      <th>calories</th>\n",
       "      <th>protein</th>\n",
       "      <th>fat</th>\n",
       "      <th>sodium</th>\n",
       "      <th>fiber</th>\n",
       "      <th>carbo</th>\n",
       "      <th>sugars</th>\n",
       "      <th>potass</th>\n",
       "      <th>vitamins</th>\n",
       "      <th>weight</th>\n",
       "      <th>cups</th>\n",
       "      <th>label</th>\n",
       "    </tr>\n",
       "  </thead>\n",
       "  <tbody>\n",
       "    <tr>\n",
       "      <th>0</th>\n",
       "      <td>70</td>\n",
       "      <td>4</td>\n",
       "      <td>1</td>\n",
       "      <td>130</td>\n",
       "      <td>10.0000</td>\n",
       "      <td>5.0000</td>\n",
       "      <td>6.0000</td>\n",
       "      <td>280.0000</td>\n",
       "      <td>25</td>\n",
       "      <td>1.0000</td>\n",
       "      <td>0.3300</td>\n",
       "      <td>100%_Bran (3-68.4)</td>\n",
       "    </tr>\n",
       "    <tr>\n",
       "      <th>1</th>\n",
       "      <td>120</td>\n",
       "      <td>3</td>\n",
       "      <td>5</td>\n",
       "      <td>15</td>\n",
       "      <td>2.0000</td>\n",
       "      <td>8.0000</td>\n",
       "      <td>8.0000</td>\n",
       "      <td>135.0000</td>\n",
       "      <td>0</td>\n",
       "      <td>1.0000</td>\n",
       "      <td>1.0000</td>\n",
       "      <td>100%_Natural_Bran (3-34.0)</td>\n",
       "    </tr>\n",
       "    <tr>\n",
       "      <th>2</th>\n",
       "      <td>70</td>\n",
       "      <td>4</td>\n",
       "      <td>1</td>\n",
       "      <td>260</td>\n",
       "      <td>9.0000</td>\n",
       "      <td>7.0000</td>\n",
       "      <td>5.0000</td>\n",
       "      <td>320.0000</td>\n",
       "      <td>25</td>\n",
       "      <td>1.0000</td>\n",
       "      <td>0.3300</td>\n",
       "      <td>All-Bran (3-59.4)</td>\n",
       "    </tr>\n",
       "    <tr>\n",
       "      <th>3</th>\n",
       "      <td>50</td>\n",
       "      <td>4</td>\n",
       "      <td>0</td>\n",
       "      <td>140</td>\n",
       "      <td>14.0000</td>\n",
       "      <td>8.0000</td>\n",
       "      <td>0.0000</td>\n",
       "      <td>330.0000</td>\n",
       "      <td>25</td>\n",
       "      <td>1.0000</td>\n",
       "      <td>0.5000</td>\n",
       "      <td>All-Bran_with_Extra_Fiber (3-93.7)</td>\n",
       "    </tr>\n",
       "    <tr>\n",
       "      <th>4</th>\n",
       "      <td>110</td>\n",
       "      <td>2</td>\n",
       "      <td>2</td>\n",
       "      <td>200</td>\n",
       "      <td>1.0000</td>\n",
       "      <td>14.0000</td>\n",
       "      <td>8.0000</td>\n",
       "      <td>NaN</td>\n",
       "      <td>25</td>\n",
       "      <td>1.0000</td>\n",
       "      <td>0.7500</td>\n",
       "      <td>Almond_Delight (3-34.4)</td>\n",
       "    </tr>\n",
       "  </tbody>\n",
       "</table>\n",
       "</div>"
      ],
      "text/plain": [
       "   calories  protein  fat  sodium   fiber   carbo  sugars   potass  vitamins  \\\n",
       "0        70        4    1     130 10.0000  5.0000  6.0000 280.0000        25   \n",
       "1       120        3    5      15  2.0000  8.0000  8.0000 135.0000         0   \n",
       "2        70        4    1     260  9.0000  7.0000  5.0000 320.0000        25   \n",
       "3        50        4    0     140 14.0000  8.0000  0.0000 330.0000        25   \n",
       "4       110        2    2     200  1.0000 14.0000  8.0000      NaN        25   \n",
       "\n",
       "   weight   cups                               label  \n",
       "0  1.0000 0.3300                  100%_Bran (3-68.4)  \n",
       "1  1.0000 1.0000          100%_Natural_Bran (3-34.0)  \n",
       "2  1.0000 0.3300                   All-Bran (3-59.4)  \n",
       "3  1.0000 0.5000  All-Bran_with_Extra_Fiber (3-93.7)  \n",
       "4  1.0000 0.7500             Almond_Delight (3-34.4)  "
      ]
     },
     "execution_count": 85,
     "metadata": {},
     "output_type": "execute_result"
    }
   ],
   "source": [
    "cereals.head()"
   ]
  },
  {
   "cell_type": "markdown",
   "metadata": {},
   "source": [
    "### Decouple label from the features"
   ]
  },
  {
   "cell_type": "code",
   "execution_count": 86,
   "metadata": {
    "ExecuteTime": {
     "end_time": "2022-06-10T13:48:17.719209Z",
     "start_time": "2022-06-10T13:48:17.710447Z"
    }
   },
   "outputs": [],
   "source": [
    "cereal_label = cereals[['label']]\n",
    "\n",
    "## Select all columns except \"label\"\n",
    "\n",
    "cereals.drop(['label'],axis=1,inplace=True)"
   ]
  },
  {
   "cell_type": "code",
   "execution_count": 87,
   "metadata": {
    "ExecuteTime": {
     "end_time": "2022-06-10T13:49:09.996816Z",
     "start_time": "2022-06-10T13:49:09.945586Z"
    }
   },
   "outputs": [
    {
     "data": {
      "text/html": [
       "<div>\n",
       "<style scoped>\n",
       "    .dataframe tbody tr th:only-of-type {\n",
       "        vertical-align: middle;\n",
       "    }\n",
       "\n",
       "    .dataframe tbody tr th {\n",
       "        vertical-align: top;\n",
       "    }\n",
       "\n",
       "    .dataframe thead th {\n",
       "        text-align: right;\n",
       "    }\n",
       "</style>\n",
       "<table border=\"1\" class=\"dataframe\">\n",
       "  <thead>\n",
       "    <tr style=\"text-align: right;\">\n",
       "      <th></th>\n",
       "      <th>label</th>\n",
       "    </tr>\n",
       "  </thead>\n",
       "  <tbody>\n",
       "    <tr>\n",
       "      <th>0</th>\n",
       "      <td>100%_Bran (3-68.4)</td>\n",
       "    </tr>\n",
       "    <tr>\n",
       "      <th>1</th>\n",
       "      <td>100%_Natural_Bran (3-34.0)</td>\n",
       "    </tr>\n",
       "    <tr>\n",
       "      <th>2</th>\n",
       "      <td>All-Bran (3-59.4)</td>\n",
       "    </tr>\n",
       "    <tr>\n",
       "      <th>3</th>\n",
       "      <td>All-Bran_with_Extra_Fiber (3-93.7)</td>\n",
       "    </tr>\n",
       "    <tr>\n",
       "      <th>4</th>\n",
       "      <td>Almond_Delight (3-34.4)</td>\n",
       "    </tr>\n",
       "  </tbody>\n",
       "</table>\n",
       "</div>"
      ],
      "text/plain": [
       "                                label\n",
       "0                  100%_Bran (3-68.4)\n",
       "1          100%_Natural_Bran (3-34.0)\n",
       "2                   All-Bran (3-59.4)\n",
       "3  All-Bran_with_Extra_Fiber (3-93.7)\n",
       "4             Almond_Delight (3-34.4)"
      ]
     },
     "execution_count": 87,
     "metadata": {},
     "output_type": "execute_result"
    }
   ],
   "source": [
    "cereal_label.head()"
   ]
  },
  {
   "cell_type": "markdown",
   "metadata": {},
   "source": [
    "### Imputation"
   ]
  },
  {
   "cell_type": "code",
   "execution_count": 88,
   "metadata": {
    "ExecuteTime": {
     "end_time": "2022-06-10T13:59:46.084155Z",
     "start_time": "2022-06-10T13:59:46.063135Z"
    }
   },
   "outputs": [],
   "source": [
    "imputer = SimpleImputer(strategy='mean')"
   ]
  },
  {
   "cell_type": "code",
   "execution_count": 89,
   "metadata": {
    "ExecuteTime": {
     "end_time": "2022-06-10T13:59:50.827275Z",
     "start_time": "2022-06-10T13:59:50.790811Z"
    }
   },
   "outputs": [
    {
     "data": {
      "text/html": [
       "<style>#sk-container-id-5 {color: black;background-color: white;}#sk-container-id-5 pre{padding: 0;}#sk-container-id-5 div.sk-toggleable {background-color: white;}#sk-container-id-5 label.sk-toggleable__label {cursor: pointer;display: block;width: 100%;margin-bottom: 0;padding: 0.3em;box-sizing: border-box;text-align: center;}#sk-container-id-5 label.sk-toggleable__label-arrow:before {content: \"▸\";float: left;margin-right: 0.25em;color: #696969;}#sk-container-id-5 label.sk-toggleable__label-arrow:hover:before {color: black;}#sk-container-id-5 div.sk-estimator:hover label.sk-toggleable__label-arrow:before {color: black;}#sk-container-id-5 div.sk-toggleable__content {max-height: 0;max-width: 0;overflow: hidden;text-align: left;background-color: #f0f8ff;}#sk-container-id-5 div.sk-toggleable__content pre {margin: 0.2em;color: black;border-radius: 0.25em;background-color: #f0f8ff;}#sk-container-id-5 input.sk-toggleable__control:checked~div.sk-toggleable__content {max-height: 200px;max-width: 100%;overflow: auto;}#sk-container-id-5 input.sk-toggleable__control:checked~label.sk-toggleable__label-arrow:before {content: \"▾\";}#sk-container-id-5 div.sk-estimator input.sk-toggleable__control:checked~label.sk-toggleable__label {background-color: #d4ebff;}#sk-container-id-5 div.sk-label input.sk-toggleable__control:checked~label.sk-toggleable__label {background-color: #d4ebff;}#sk-container-id-5 input.sk-hidden--visually {border: 0;clip: rect(1px 1px 1px 1px);clip: rect(1px, 1px, 1px, 1px);height: 1px;margin: -1px;overflow: hidden;padding: 0;position: absolute;width: 1px;}#sk-container-id-5 div.sk-estimator {font-family: monospace;background-color: #f0f8ff;border: 1px dotted black;border-radius: 0.25em;box-sizing: border-box;margin-bottom: 0.5em;}#sk-container-id-5 div.sk-estimator:hover {background-color: #d4ebff;}#sk-container-id-5 div.sk-parallel-item::after {content: \"\";width: 100%;border-bottom: 1px solid gray;flex-grow: 1;}#sk-container-id-5 div.sk-label:hover label.sk-toggleable__label {background-color: #d4ebff;}#sk-container-id-5 div.sk-serial::before {content: \"\";position: absolute;border-left: 1px solid gray;box-sizing: border-box;top: 0;bottom: 0;left: 50%;z-index: 0;}#sk-container-id-5 div.sk-serial {display: flex;flex-direction: column;align-items: center;background-color: white;padding-right: 0.2em;padding-left: 0.2em;position: relative;}#sk-container-id-5 div.sk-item {position: relative;z-index: 1;}#sk-container-id-5 div.sk-parallel {display: flex;align-items: stretch;justify-content: center;background-color: white;position: relative;}#sk-container-id-5 div.sk-item::before, #sk-container-id-5 div.sk-parallel-item::before {content: \"\";position: absolute;border-left: 1px solid gray;box-sizing: border-box;top: 0;bottom: 0;left: 50%;z-index: -1;}#sk-container-id-5 div.sk-parallel-item {display: flex;flex-direction: column;z-index: 1;position: relative;background-color: white;}#sk-container-id-5 div.sk-parallel-item:first-child::after {align-self: flex-end;width: 50%;}#sk-container-id-5 div.sk-parallel-item:last-child::after {align-self: flex-start;width: 50%;}#sk-container-id-5 div.sk-parallel-item:only-child::after {width: 0;}#sk-container-id-5 div.sk-dashed-wrapped {border: 1px dashed gray;margin: 0 0.4em 0.5em 0.4em;box-sizing: border-box;padding-bottom: 0.4em;background-color: white;}#sk-container-id-5 div.sk-label label {font-family: monospace;font-weight: bold;display: inline-block;line-height: 1.2em;}#sk-container-id-5 div.sk-label-container {text-align: center;}#sk-container-id-5 div.sk-container {/* jupyter's `normalize.less` sets `[hidden] { display: none; }` but bootstrap.min.css set `[hidden] { display: none !important; }` so we also need the `!important` here to be able to override the default hidden behavior on the sphinx rendered scikit-learn.org. See: https://github.com/scikit-learn/scikit-learn/issues/21755 */display: inline-block !important;position: relative;}#sk-container-id-5 div.sk-text-repr-fallback {display: none;}</style><div id=\"sk-container-id-5\" class=\"sk-top-container\"><div class=\"sk-text-repr-fallback\"><pre>SimpleImputer()</pre><b>In a Jupyter environment, please rerun this cell to show the HTML representation or trust the notebook. <br />On GitHub, the HTML representation is unable to render, please try loading this page with nbviewer.org.</b></div><div class=\"sk-container\" hidden><div class=\"sk-item\"><div class=\"sk-estimator sk-toggleable\"><input class=\"sk-toggleable__control sk-hidden--visually\" id=\"sk-estimator-id-5\" type=\"checkbox\" checked><label for=\"sk-estimator-id-5\" class=\"sk-toggleable__label sk-toggleable__label-arrow\">SimpleImputer</label><div class=\"sk-toggleable__content\"><pre>SimpleImputer()</pre></div></div></div></div></div>"
      ],
      "text/plain": [
       "SimpleImputer()"
      ]
     },
     "execution_count": 89,
     "metadata": {},
     "output_type": "execute_result"
    }
   ],
   "source": [
    "imputer.fit(cereals)"
   ]
  },
  {
   "cell_type": "code",
   "execution_count": 90,
   "metadata": {
    "ExecuteTime": {
     "end_time": "2022-06-10T14:00:08.159398Z",
     "start_time": "2022-06-10T14:00:08.129382Z"
    }
   },
   "outputs": [],
   "source": [
    "imputed_cereals = pd.DataFrame(imputer.transform(cereals))"
   ]
  },
  {
   "cell_type": "code",
   "execution_count": null,
   "metadata": {},
   "outputs": [],
   "source": []
  },
  {
   "cell_type": "code",
   "execution_count": 91,
   "metadata": {
    "ExecuteTime": {
     "end_time": "2022-06-10T14:00:09.810551Z",
     "start_time": "2022-06-10T14:00:09.770422Z"
    }
   },
   "outputs": [
    {
     "data": {
      "text/html": [
       "<div>\n",
       "<style scoped>\n",
       "    .dataframe tbody tr th:only-of-type {\n",
       "        vertical-align: middle;\n",
       "    }\n",
       "\n",
       "    .dataframe tbody tr th {\n",
       "        vertical-align: top;\n",
       "    }\n",
       "\n",
       "    .dataframe thead th {\n",
       "        text-align: right;\n",
       "    }\n",
       "</style>\n",
       "<table border=\"1\" class=\"dataframe\">\n",
       "  <thead>\n",
       "    <tr style=\"text-align: right;\">\n",
       "      <th></th>\n",
       "      <th>0</th>\n",
       "      <th>1</th>\n",
       "      <th>2</th>\n",
       "      <th>3</th>\n",
       "      <th>4</th>\n",
       "      <th>5</th>\n",
       "      <th>6</th>\n",
       "      <th>7</th>\n",
       "      <th>8</th>\n",
       "      <th>9</th>\n",
       "      <th>10</th>\n",
       "    </tr>\n",
       "  </thead>\n",
       "  <tbody>\n",
       "    <tr>\n",
       "      <th>0</th>\n",
       "      <td>70.0000</td>\n",
       "      <td>4.0000</td>\n",
       "      <td>1.0000</td>\n",
       "      <td>130.0000</td>\n",
       "      <td>10.0000</td>\n",
       "      <td>5.0000</td>\n",
       "      <td>6.0000</td>\n",
       "      <td>280.0000</td>\n",
       "      <td>25.0000</td>\n",
       "      <td>1.0000</td>\n",
       "      <td>0.3300</td>\n",
       "    </tr>\n",
       "    <tr>\n",
       "      <th>1</th>\n",
       "      <td>120.0000</td>\n",
       "      <td>3.0000</td>\n",
       "      <td>5.0000</td>\n",
       "      <td>15.0000</td>\n",
       "      <td>2.0000</td>\n",
       "      <td>8.0000</td>\n",
       "      <td>8.0000</td>\n",
       "      <td>135.0000</td>\n",
       "      <td>0.0000</td>\n",
       "      <td>1.0000</td>\n",
       "      <td>1.0000</td>\n",
       "    </tr>\n",
       "    <tr>\n",
       "      <th>2</th>\n",
       "      <td>70.0000</td>\n",
       "      <td>4.0000</td>\n",
       "      <td>1.0000</td>\n",
       "      <td>260.0000</td>\n",
       "      <td>9.0000</td>\n",
       "      <td>7.0000</td>\n",
       "      <td>5.0000</td>\n",
       "      <td>320.0000</td>\n",
       "      <td>25.0000</td>\n",
       "      <td>1.0000</td>\n",
       "      <td>0.3300</td>\n",
       "    </tr>\n",
       "    <tr>\n",
       "      <th>3</th>\n",
       "      <td>50.0000</td>\n",
       "      <td>4.0000</td>\n",
       "      <td>0.0000</td>\n",
       "      <td>140.0000</td>\n",
       "      <td>14.0000</td>\n",
       "      <td>8.0000</td>\n",
       "      <td>0.0000</td>\n",
       "      <td>330.0000</td>\n",
       "      <td>25.0000</td>\n",
       "      <td>1.0000</td>\n",
       "      <td>0.5000</td>\n",
       "    </tr>\n",
       "    <tr>\n",
       "      <th>4</th>\n",
       "      <td>110.0000</td>\n",
       "      <td>2.0000</td>\n",
       "      <td>2.0000</td>\n",
       "      <td>200.0000</td>\n",
       "      <td>1.0000</td>\n",
       "      <td>14.0000</td>\n",
       "      <td>8.0000</td>\n",
       "      <td>98.6667</td>\n",
       "      <td>25.0000</td>\n",
       "      <td>1.0000</td>\n",
       "      <td>0.7500</td>\n",
       "    </tr>\n",
       "  </tbody>\n",
       "</table>\n",
       "</div>"
      ],
      "text/plain": [
       "        0      1      2        3       4       5      6        7       8   \\\n",
       "0  70.0000 4.0000 1.0000 130.0000 10.0000  5.0000 6.0000 280.0000 25.0000   \n",
       "1 120.0000 3.0000 5.0000  15.0000  2.0000  8.0000 8.0000 135.0000  0.0000   \n",
       "2  70.0000 4.0000 1.0000 260.0000  9.0000  7.0000 5.0000 320.0000 25.0000   \n",
       "3  50.0000 4.0000 0.0000 140.0000 14.0000  8.0000 0.0000 330.0000 25.0000   \n",
       "4 110.0000 2.0000 2.0000 200.0000  1.0000 14.0000 8.0000  98.6667 25.0000   \n",
       "\n",
       "      9      10  \n",
       "0 1.0000 0.3300  \n",
       "1 1.0000 1.0000  \n",
       "2 1.0000 0.3300  \n",
       "3 1.0000 0.5000  \n",
       "4 1.0000 0.7500  "
      ]
     },
     "execution_count": 91,
     "metadata": {},
     "output_type": "execute_result"
    }
   ],
   "source": [
    "imputed_cereals.head()"
   ]
  },
  {
   "cell_type": "markdown",
   "metadata": {},
   "source": [
    "#### Checking for NAs again"
   ]
  },
  {
   "cell_type": "code",
   "execution_count": 92,
   "metadata": {
    "ExecuteTime": {
     "end_time": "2022-06-10T14:00:23.454627Z",
     "start_time": "2022-06-10T14:00:23.436098Z"
    }
   },
   "outputs": [
    {
     "data": {
      "text/plain": [
       "0     0\n",
       "1     0\n",
       "2     0\n",
       "3     0\n",
       "4     0\n",
       "5     0\n",
       "6     0\n",
       "7     0\n",
       "8     0\n",
       "9     0\n",
       "10    0\n",
       "dtype: int64"
      ]
     },
     "execution_count": 92,
     "metadata": {},
     "output_type": "execute_result"
    }
   ],
   "source": [
    "imputed_cereals.isnull().sum()"
   ]
  },
  {
   "cell_type": "markdown",
   "metadata": {},
   "source": [
    "## Standardization"
   ]
  },
  {
   "cell_type": "code",
   "execution_count": 93,
   "metadata": {
    "ExecuteTime": {
     "end_time": "2022-06-10T14:01:14.353964Z",
     "start_time": "2022-06-10T14:01:14.342784Z"
    }
   },
   "outputs": [],
   "source": [
    "from sklearn.preprocessing import StandardScaler\n",
    "standardizer=StandardScaler()"
   ]
  },
  {
   "cell_type": "code",
   "execution_count": 94,
   "metadata": {
    "ExecuteTime": {
     "end_time": "2022-06-10T14:02:21.100975Z",
     "start_time": "2022-06-10T14:02:21.085942Z"
    }
   },
   "outputs": [],
   "source": [
    "std_X = standardizer.fit_transform(imputed_cereals)\n",
    "\n",
    "std_cereals = pd.DataFrame(std_X,columns=list(cereals.columns))"
   ]
  },
  {
   "cell_type": "code",
   "execution_count": 95,
   "metadata": {
    "ExecuteTime": {
     "end_time": "2022-06-10T14:02:34.849855Z",
     "start_time": "2022-06-10T14:02:34.805646Z"
    }
   },
   "outputs": [
    {
     "data": {
      "text/html": [
       "<div>\n",
       "<style scoped>\n",
       "    .dataframe tbody tr th:only-of-type {\n",
       "        vertical-align: middle;\n",
       "    }\n",
       "\n",
       "    .dataframe tbody tr th {\n",
       "        vertical-align: top;\n",
       "    }\n",
       "\n",
       "    .dataframe thead th {\n",
       "        text-align: right;\n",
       "    }\n",
       "</style>\n",
       "<table border=\"1\" class=\"dataframe\">\n",
       "  <thead>\n",
       "    <tr style=\"text-align: right;\">\n",
       "      <th></th>\n",
       "      <th>calories</th>\n",
       "      <th>protein</th>\n",
       "      <th>fat</th>\n",
       "      <th>sodium</th>\n",
       "      <th>fiber</th>\n",
       "      <th>carbo</th>\n",
       "      <th>sugars</th>\n",
       "      <th>potass</th>\n",
       "      <th>vitamins</th>\n",
       "      <th>weight</th>\n",
       "      <th>cups</th>\n",
       "    </tr>\n",
       "  </thead>\n",
       "  <tbody>\n",
       "    <tr>\n",
       "      <th>0</th>\n",
       "      <td>-1.9054</td>\n",
       "      <td>1.3373</td>\n",
       "      <td>-0.0130</td>\n",
       "      <td>-0.3563</td>\n",
       "      <td>3.3144</td>\n",
       "      <td>-2.5420</td>\n",
       "      <td>-0.2375</td>\n",
       "      <td>2.6271</td>\n",
       "      <td>-0.1463</td>\n",
       "      <td>-0.1981</td>\n",
       "      <td>-2.1239</td>\n",
       "    </tr>\n",
       "    <tr>\n",
       "      <th>1</th>\n",
       "      <td>0.6776</td>\n",
       "      <td>0.4179</td>\n",
       "      <td>3.9873</td>\n",
       "      <td>-1.7371</td>\n",
       "      <td>-0.0642</td>\n",
       "      <td>-1.7641</td>\n",
       "      <td>0.2253</td>\n",
       "      <td>0.5264</td>\n",
       "      <td>-1.2726</td>\n",
       "      <td>-0.1981</td>\n",
       "      <td>0.7741</td>\n",
       "    </tr>\n",
       "    <tr>\n",
       "      <th>2</th>\n",
       "      <td>-1.9054</td>\n",
       "      <td>1.3373</td>\n",
       "      <td>-0.0130</td>\n",
       "      <td>1.2046</td>\n",
       "      <td>2.8921</td>\n",
       "      <td>-2.0234</td>\n",
       "      <td>-0.4689</td>\n",
       "      <td>3.2066</td>\n",
       "      <td>-0.1463</td>\n",
       "      <td>-0.1981</td>\n",
       "      <td>-2.1239</td>\n",
       "    </tr>\n",
       "    <tr>\n",
       "      <th>3</th>\n",
       "      <td>-2.9386</td>\n",
       "      <td>1.3373</td>\n",
       "      <td>-1.0131</td>\n",
       "      <td>-0.2362</td>\n",
       "      <td>5.0037</td>\n",
       "      <td>-1.7641</td>\n",
       "      <td>-1.6259</td>\n",
       "      <td>3.3514</td>\n",
       "      <td>-0.1463</td>\n",
       "      <td>-0.1981</td>\n",
       "      <td>-1.3886</td>\n",
       "    </tr>\n",
       "    <tr>\n",
       "      <th>4</th>\n",
       "      <td>0.1610</td>\n",
       "      <td>-0.5015</td>\n",
       "      <td>0.9871</td>\n",
       "      <td>0.4842</td>\n",
       "      <td>-0.4865</td>\n",
       "      <td>-0.2081</td>\n",
       "      <td>0.2253</td>\n",
       "      <td>0.0000</td>\n",
       "      <td>-0.1463</td>\n",
       "      <td>-0.1981</td>\n",
       "      <td>-0.3073</td>\n",
       "    </tr>\n",
       "  </tbody>\n",
       "</table>\n",
       "</div>"
      ],
      "text/plain": [
       "   calories  protein     fat  sodium   fiber   carbo  sugars  potass  \\\n",
       "0   -1.9054   1.3373 -0.0130 -0.3563  3.3144 -2.5420 -0.2375  2.6271   \n",
       "1    0.6776   0.4179  3.9873 -1.7371 -0.0642 -1.7641  0.2253  0.5264   \n",
       "2   -1.9054   1.3373 -0.0130  1.2046  2.8921 -2.0234 -0.4689  3.2066   \n",
       "3   -2.9386   1.3373 -1.0131 -0.2362  5.0037 -1.7641 -1.6259  3.3514   \n",
       "4    0.1610  -0.5015  0.9871  0.4842 -0.4865 -0.2081  0.2253  0.0000   \n",
       "\n",
       "   vitamins  weight    cups  \n",
       "0   -0.1463 -0.1981 -2.1239  \n",
       "1   -1.2726 -0.1981  0.7741  \n",
       "2   -0.1463 -0.1981 -2.1239  \n",
       "3   -0.1463 -0.1981 -1.3886  \n",
       "4   -0.1463 -0.1981 -0.3073  "
      ]
     },
     "execution_count": 95,
     "metadata": {},
     "output_type": "execute_result"
    }
   ],
   "source": [
    "std_cereals.head()"
   ]
  },
  {
   "cell_type": "code",
   "execution_count": 96,
   "metadata": {
    "ExecuteTime": {
     "end_time": "2022-06-10T14:06:07.079151Z",
     "start_time": "2022-06-10T14:06:06.990929Z"
    },
    "scrolled": true
   },
   "outputs": [
    {
     "data": {
      "text/html": [
       "<div>\n",
       "<style scoped>\n",
       "    .dataframe tbody tr th:only-of-type {\n",
       "        vertical-align: middle;\n",
       "    }\n",
       "\n",
       "    .dataframe tbody tr th {\n",
       "        vertical-align: top;\n",
       "    }\n",
       "\n",
       "    .dataframe thead th {\n",
       "        text-align: right;\n",
       "    }\n",
       "</style>\n",
       "<table border=\"1\" class=\"dataframe\">\n",
       "  <thead>\n",
       "    <tr style=\"text-align: right;\">\n",
       "      <th></th>\n",
       "      <th>calories</th>\n",
       "      <th>protein</th>\n",
       "      <th>fat</th>\n",
       "      <th>sodium</th>\n",
       "      <th>fiber</th>\n",
       "      <th>carbo</th>\n",
       "      <th>sugars</th>\n",
       "      <th>potass</th>\n",
       "      <th>vitamins</th>\n",
       "      <th>weight</th>\n",
       "      <th>cups</th>\n",
       "    </tr>\n",
       "  </thead>\n",
       "  <tbody>\n",
       "    <tr>\n",
       "      <th>count</th>\n",
       "      <td>77.0000</td>\n",
       "      <td>77.0000</td>\n",
       "      <td>77.0000</td>\n",
       "      <td>77.0000</td>\n",
       "      <td>77.0000</td>\n",
       "      <td>77.0000</td>\n",
       "      <td>77.0000</td>\n",
       "      <td>77.0000</td>\n",
       "      <td>77.0000</td>\n",
       "      <td>77.0000</td>\n",
       "      <td>77.0000</td>\n",
       "    </tr>\n",
       "    <tr>\n",
       "      <th>mean</th>\n",
       "      <td>-0.0000</td>\n",
       "      <td>0.0000</td>\n",
       "      <td>0.0000</td>\n",
       "      <td>-0.0000</td>\n",
       "      <td>0.0000</td>\n",
       "      <td>-0.0000</td>\n",
       "      <td>-0.0000</td>\n",
       "      <td>-0.0000</td>\n",
       "      <td>0.0000</td>\n",
       "      <td>-0.0000</td>\n",
       "      <td>0.0000</td>\n",
       "    </tr>\n",
       "    <tr>\n",
       "      <th>std</th>\n",
       "      <td>1.0066</td>\n",
       "      <td>1.0066</td>\n",
       "      <td>1.0066</td>\n",
       "      <td>1.0066</td>\n",
       "      <td>1.0066</td>\n",
       "      <td>1.0066</td>\n",
       "      <td>1.0066</td>\n",
       "      <td>1.0066</td>\n",
       "      <td>1.0066</td>\n",
       "      <td>1.0066</td>\n",
       "      <td>1.0066</td>\n",
       "    </tr>\n",
       "    <tr>\n",
       "      <th>min</th>\n",
       "      <td>-2.9386</td>\n",
       "      <td>-1.4209</td>\n",
       "      <td>-1.0131</td>\n",
       "      <td>-1.9172</td>\n",
       "      <td>-0.9088</td>\n",
       "      <td>-2.5420</td>\n",
       "      <td>-1.6259</td>\n",
       "      <td>-1.2121</td>\n",
       "      <td>-1.2726</td>\n",
       "      <td>-3.5426</td>\n",
       "      <td>-2.4699</td>\n",
       "    </tr>\n",
       "    <tr>\n",
       "      <th>25%</th>\n",
       "      <td>-0.3556</td>\n",
       "      <td>-0.5015</td>\n",
       "      <td>-1.0131</td>\n",
       "      <td>-0.3563</td>\n",
       "      <td>-0.4865</td>\n",
       "      <td>-0.7268</td>\n",
       "      <td>-0.9317</td>\n",
       "      <td>-0.7775</td>\n",
       "      <td>-0.1463</td>\n",
       "      <td>-0.1981</td>\n",
       "      <td>-0.6533</td>\n",
       "    </tr>\n",
       "    <tr>\n",
       "      <th>50%</th>\n",
       "      <td>0.1610</td>\n",
       "      <td>0.4179</td>\n",
       "      <td>-0.0130</td>\n",
       "      <td>0.2440</td>\n",
       "      <td>-0.0642</td>\n",
       "      <td>-0.0000</td>\n",
       "      <td>-0.0061</td>\n",
       "      <td>-0.1256</td>\n",
       "      <td>-0.1463</td>\n",
       "      <td>-0.1981</td>\n",
       "      <td>-0.3073</td>\n",
       "    </tr>\n",
       "    <tr>\n",
       "      <th>75%</th>\n",
       "      <td>0.1610</td>\n",
       "      <td>0.4179</td>\n",
       "      <td>0.9871</td>\n",
       "      <td>0.6042</td>\n",
       "      <td>0.3582</td>\n",
       "      <td>0.5698</td>\n",
       "      <td>0.9195</td>\n",
       "      <td>0.3091</td>\n",
       "      <td>-0.1463</td>\n",
       "      <td>-0.1981</td>\n",
       "      <td>0.7741</td>\n",
       "    </tr>\n",
       "    <tr>\n",
       "      <th>max</th>\n",
       "      <td>2.7440</td>\n",
       "      <td>3.1761</td>\n",
       "      <td>3.9873</td>\n",
       "      <td>1.9250</td>\n",
       "      <td>5.0037</td>\n",
       "      <td>2.1257</td>\n",
       "      <td>1.8452</td>\n",
       "      <td>3.3514</td>\n",
       "      <td>3.2326</td>\n",
       "      <td>3.1465</td>\n",
       "      <td>2.9367</td>\n",
       "    </tr>\n",
       "  </tbody>\n",
       "</table>\n",
       "</div>"
      ],
      "text/plain": [
       "       calories  protein     fat  sodium   fiber   carbo  sugars  potass  \\\n",
       "count   77.0000  77.0000 77.0000 77.0000 77.0000 77.0000 77.0000 77.0000   \n",
       "mean    -0.0000   0.0000  0.0000 -0.0000  0.0000 -0.0000 -0.0000 -0.0000   \n",
       "std      1.0066   1.0066  1.0066  1.0066  1.0066  1.0066  1.0066  1.0066   \n",
       "min     -2.9386  -1.4209 -1.0131 -1.9172 -0.9088 -2.5420 -1.6259 -1.2121   \n",
       "25%     -0.3556  -0.5015 -1.0131 -0.3563 -0.4865 -0.7268 -0.9317 -0.7775   \n",
       "50%      0.1610   0.4179 -0.0130  0.2440 -0.0642 -0.0000 -0.0061 -0.1256   \n",
       "75%      0.1610   0.4179  0.9871  0.6042  0.3582  0.5698  0.9195  0.3091   \n",
       "max      2.7440   3.1761  3.9873  1.9250  5.0037  2.1257  1.8452  3.3514   \n",
       "\n",
       "       vitamins  weight    cups  \n",
       "count   77.0000 77.0000 77.0000  \n",
       "mean     0.0000 -0.0000  0.0000  \n",
       "std      1.0066  1.0066  1.0066  \n",
       "min     -1.2726 -3.5426 -2.4699  \n",
       "25%     -0.1463 -0.1981 -0.6533  \n",
       "50%     -0.1463 -0.1981 -0.3073  \n",
       "75%     -0.1463 -0.1981  0.7741  \n",
       "max      3.2326  3.1465  2.9367  "
      ]
     },
     "execution_count": 96,
     "metadata": {},
     "output_type": "execute_result"
    }
   ],
   "source": [
    "std_cereals.describe()"
   ]
  },
  {
   "cell_type": "code",
   "execution_count": 97,
   "metadata": {
    "ExecuteTime": {
     "end_time": "2022-06-10T14:06:37.844457Z",
     "start_time": "2022-06-10T14:06:37.751225Z"
    }
   },
   "outputs": [
    {
     "data": {
      "text/html": [
       "<div>\n",
       "<style scoped>\n",
       "    .dataframe tbody tr th:only-of-type {\n",
       "        vertical-align: middle;\n",
       "    }\n",
       "\n",
       "    .dataframe tbody tr th {\n",
       "        vertical-align: top;\n",
       "    }\n",
       "\n",
       "    .dataframe thead th {\n",
       "        text-align: right;\n",
       "    }\n",
       "</style>\n",
       "<table border=\"1\" class=\"dataframe\">\n",
       "  <thead>\n",
       "    <tr style=\"text-align: right;\">\n",
       "      <th></th>\n",
       "      <th>calories</th>\n",
       "      <th>protein</th>\n",
       "      <th>fat</th>\n",
       "      <th>sodium</th>\n",
       "      <th>fiber</th>\n",
       "      <th>carbo</th>\n",
       "      <th>sugars</th>\n",
       "      <th>potass</th>\n",
       "      <th>vitamins</th>\n",
       "      <th>weight</th>\n",
       "      <th>cups</th>\n",
       "    </tr>\n",
       "  </thead>\n",
       "  <tbody>\n",
       "    <tr>\n",
       "      <th>count</th>\n",
       "      <td>77.0000</td>\n",
       "      <td>77.0000</td>\n",
       "      <td>77.0000</td>\n",
       "      <td>77.0000</td>\n",
       "      <td>77.0000</td>\n",
       "      <td>77.0000</td>\n",
       "      <td>77.0000</td>\n",
       "      <td>77.0000</td>\n",
       "      <td>77.0000</td>\n",
       "      <td>77.0000</td>\n",
       "      <td>77.0000</td>\n",
       "    </tr>\n",
       "    <tr>\n",
       "      <th>mean</th>\n",
       "      <td>-0.0000</td>\n",
       "      <td>0.0000</td>\n",
       "      <td>0.0000</td>\n",
       "      <td>-0.0000</td>\n",
       "      <td>0.0000</td>\n",
       "      <td>-0.0000</td>\n",
       "      <td>-0.0000</td>\n",
       "      <td>-0.0000</td>\n",
       "      <td>0.0000</td>\n",
       "      <td>-0.0000</td>\n",
       "      <td>0.0000</td>\n",
       "    </tr>\n",
       "    <tr>\n",
       "      <th>std</th>\n",
       "      <td>1.0066</td>\n",
       "      <td>1.0066</td>\n",
       "      <td>1.0066</td>\n",
       "      <td>1.0066</td>\n",
       "      <td>1.0066</td>\n",
       "      <td>1.0066</td>\n",
       "      <td>1.0066</td>\n",
       "      <td>1.0066</td>\n",
       "      <td>1.0066</td>\n",
       "      <td>1.0066</td>\n",
       "      <td>1.0066</td>\n",
       "    </tr>\n",
       "    <tr>\n",
       "      <th>min</th>\n",
       "      <td>-2.9386</td>\n",
       "      <td>-1.4209</td>\n",
       "      <td>-1.0131</td>\n",
       "      <td>-1.9172</td>\n",
       "      <td>-0.9088</td>\n",
       "      <td>-2.5420</td>\n",
       "      <td>-1.6259</td>\n",
       "      <td>-1.2121</td>\n",
       "      <td>-1.2726</td>\n",
       "      <td>-3.5426</td>\n",
       "      <td>-2.4699</td>\n",
       "    </tr>\n",
       "    <tr>\n",
       "      <th>25%</th>\n",
       "      <td>-0.3556</td>\n",
       "      <td>-0.5015</td>\n",
       "      <td>-1.0131</td>\n",
       "      <td>-0.3563</td>\n",
       "      <td>-0.4865</td>\n",
       "      <td>-0.7268</td>\n",
       "      <td>-0.9317</td>\n",
       "      <td>-0.7775</td>\n",
       "      <td>-0.1463</td>\n",
       "      <td>-0.1981</td>\n",
       "      <td>-0.6533</td>\n",
       "    </tr>\n",
       "    <tr>\n",
       "      <th>50%</th>\n",
       "      <td>0.1610</td>\n",
       "      <td>0.4179</td>\n",
       "      <td>-0.0130</td>\n",
       "      <td>0.2440</td>\n",
       "      <td>-0.0642</td>\n",
       "      <td>-0.0000</td>\n",
       "      <td>-0.0061</td>\n",
       "      <td>-0.1256</td>\n",
       "      <td>-0.1463</td>\n",
       "      <td>-0.1981</td>\n",
       "      <td>-0.3073</td>\n",
       "    </tr>\n",
       "    <tr>\n",
       "      <th>75%</th>\n",
       "      <td>0.1610</td>\n",
       "      <td>0.4179</td>\n",
       "      <td>0.9871</td>\n",
       "      <td>0.6042</td>\n",
       "      <td>0.3582</td>\n",
       "      <td>0.5698</td>\n",
       "      <td>0.9195</td>\n",
       "      <td>0.3091</td>\n",
       "      <td>-0.1463</td>\n",
       "      <td>-0.1981</td>\n",
       "      <td>0.7741</td>\n",
       "    </tr>\n",
       "    <tr>\n",
       "      <th>max</th>\n",
       "      <td>2.7440</td>\n",
       "      <td>3.1761</td>\n",
       "      <td>3.9873</td>\n",
       "      <td>1.9250</td>\n",
       "      <td>5.0037</td>\n",
       "      <td>2.1257</td>\n",
       "      <td>1.8452</td>\n",
       "      <td>3.3514</td>\n",
       "      <td>3.2326</td>\n",
       "      <td>3.1465</td>\n",
       "      <td>2.9367</td>\n",
       "    </tr>\n",
       "  </tbody>\n",
       "</table>\n",
       "</div>"
      ],
      "text/plain": [
       "       calories  protein     fat  sodium   fiber   carbo  sugars  potass  \\\n",
       "count   77.0000  77.0000 77.0000 77.0000 77.0000 77.0000 77.0000 77.0000   \n",
       "mean    -0.0000   0.0000  0.0000 -0.0000  0.0000 -0.0000 -0.0000 -0.0000   \n",
       "std      1.0066   1.0066  1.0066  1.0066  1.0066  1.0066  1.0066  1.0066   \n",
       "min     -2.9386  -1.4209 -1.0131 -1.9172 -0.9088 -2.5420 -1.6259 -1.2121   \n",
       "25%     -0.3556  -0.5015 -1.0131 -0.3563 -0.4865 -0.7268 -0.9317 -0.7775   \n",
       "50%      0.1610   0.4179 -0.0130  0.2440 -0.0642 -0.0000 -0.0061 -0.1256   \n",
       "75%      0.1610   0.4179  0.9871  0.6042  0.3582  0.5698  0.9195  0.3091   \n",
       "max      2.7440   3.1761  3.9873  1.9250  5.0037  2.1257  1.8452  3.3514   \n",
       "\n",
       "       vitamins  weight    cups  \n",
       "count   77.0000 77.0000 77.0000  \n",
       "mean     0.0000 -0.0000  0.0000  \n",
       "std      1.0066  1.0066  1.0066  \n",
       "min     -1.2726 -3.5426 -2.4699  \n",
       "25%     -0.1463 -0.1981 -0.6533  \n",
       "50%     -0.1463 -0.1981 -0.3073  \n",
       "75%     -0.1463 -0.1981  0.7741  \n",
       "max      3.2326  3.1465  2.9367  "
      ]
     },
     "execution_count": 97,
     "metadata": {},
     "output_type": "execute_result"
    }
   ],
   "source": [
    "pd.set_option('display.float_format',lambda x : \"%.4f\" %x)\n",
    "\n",
    "std_cereals.describe()"
   ]
  },
  {
   "cell_type": "markdown",
   "metadata": {},
   "source": [
    "# Clustering"
   ]
  },
  {
   "cell_type": "markdown",
   "metadata": {},
   "source": [
    "## Agglomerative Clustering"
   ]
  },
  {
   "cell_type": "markdown",
   "metadata": {},
   "source": [
    "### Preparing linkage matrix"
   ]
  },
  {
   "cell_type": "code",
   "execution_count": 98,
   "metadata": {
    "ExecuteTime": {
     "end_time": "2022-06-10T14:07:40.546491Z",
     "start_time": "2022-06-10T14:07:40.529714Z"
    }
   },
   "outputs": [],
   "source": [
    "linkage_matrix = linkage(std_cereals)\n",
    "\n"
   ]
  },
  {
   "cell_type": "code",
   "execution_count": 99,
   "metadata": {
    "ExecuteTime": {
     "end_time": "2022-06-10T14:07:45.913113Z",
     "start_time": "2022-06-10T14:07:45.893680Z"
    }
   },
   "outputs": [
    {
     "data": {
      "text/plain": [
       "array([[1.40000000e+01, 1.80000000e+01, 1.44874262e-01, 2.00000000e+00],\n",
       "       [1.50000000e+01, 6.20000000e+01, 1.88161824e-01, 2.00000000e+00],\n",
       "       [6.40000000e+01, 6.50000000e+01, 5.74073478e-01, 2.00000000e+00],\n",
       "       [4.40000000e+01, 4.50000000e+01, 6.60373898e-01, 2.00000000e+00],\n",
       "       [7.30000000e+01, 7.70000000e+01, 7.35087226e-01, 3.00000000e+00],\n",
       "       [1.60000000e+01, 7.80000000e+01, 7.52352597e-01, 3.00000000e+00],\n",
       "       [2.10000000e+01, 8.20000000e+01, 8.77405730e-01, 4.00000000e+00],\n",
       "       [4.80000000e+01, 7.60000000e+01, 8.85514125e-01, 2.00000000e+00],\n",
       "       [2.40000000e+01, 4.20000000e+01, 9.30820518e-01, 2.00000000e+00],\n",
       "       [8.10000000e+01, 8.50000000e+01, 9.48081185e-01, 5.00000000e+00],\n",
       "       [1.30000000e+01, 5.90000000e+01, 1.02098928e+00, 2.00000000e+00],\n",
       "       [6.00000000e+00, 8.60000000e+01, 1.02650730e+00, 6.00000000e+00],\n",
       "       [2.90000000e+01, 8.80000000e+01, 1.08297986e+00, 7.00000000e+00],\n",
       "       [5.20000000e+01, 5.80000000e+01, 1.10266673e+00, 2.00000000e+00],\n",
       "       [4.00000000e+00, 5.00000000e+00, 1.14573093e+00, 2.00000000e+00],\n",
       "       [3.20000000e+01, 7.50000000e+01, 1.18437314e+00, 2.00000000e+00],\n",
       "       [1.00000000e+01, 3.50000000e+01, 1.19253426e+00, 2.00000000e+00],\n",
       "       [7.00000000e+00, 4.90000000e+01, 1.19459229e+00, 2.00000000e+00],\n",
       "       [6.10000000e+01, 8.30000000e+01, 1.23214270e+00, 5.00000000e+00],\n",
       "       [1.70000000e+01, 8.90000000e+01, 1.23534547e+00, 8.00000000e+00],\n",
       "       [8.40000000e+01, 9.10000000e+01, 1.25815628e+00, 4.00000000e+00],\n",
       "       [1.20000000e+01, 9.30000000e+01, 1.25887137e+00, 3.00000000e+00],\n",
       "       [5.00000000e+01, 9.20000000e+01, 1.26552149e+00, 3.00000000e+00],\n",
       "       [3.00000000e+01, 9.60000000e+01, 1.30836313e+00, 9.00000000e+00],\n",
       "       [2.80000000e+01, 9.00000000e+01, 1.33205093e+00, 3.00000000e+00],\n",
       "       [4.10000000e+01, 8.70000000e+01, 1.34500792e+00, 3.00000000e+00],\n",
       "       [1.90000000e+01, 1.02000000e+02, 1.35006364e+00, 4.00000000e+00],\n",
       "       [5.40000000e+01, 5.50000000e+01, 1.37331643e+00, 2.00000000e+00],\n",
       "       [5.60000000e+01, 1.03000000e+02, 1.37458110e+00, 5.00000000e+00],\n",
       "       [2.50000000e+01, 1.00000000e+02, 1.38145319e+00, 1.00000000e+01],\n",
       "       [9.80000000e+01, 1.06000000e+02, 1.38248033e+00, 1.30000000e+01],\n",
       "       [4.70000000e+01, 9.90000000e+01, 1.38427301e+00, 4.00000000e+00],\n",
       "       [3.80000000e+01, 6.90000000e+01, 1.41321170e+00, 2.00000000e+00],\n",
       "       [2.20000000e+01, 9.70000000e+01, 1.44354594e+00, 5.00000000e+00],\n",
       "       [6.60000000e+01, 1.07000000e+02, 1.45241320e+00, 1.40000000e+01],\n",
       "       [3.10000000e+01, 1.10000000e+02, 1.45407456e+00, 6.00000000e+00],\n",
       "       [2.30000000e+01, 1.12000000e+02, 1.45476537e+00, 7.00000000e+00],\n",
       "       [1.08000000e+02, 1.13000000e+02, 1.46372253e+00, 1.10000000e+01],\n",
       "       [7.40000000e+01, 1.14000000e+02, 1.47386569e+00, 1.20000000e+01],\n",
       "       [8.00000000e+00, 1.15000000e+02, 1.48061049e+00, 1.30000000e+01],\n",
       "       [2.60000000e+01, 6.80000000e+01, 1.48167797e+00, 2.00000000e+00],\n",
       "       [1.11000000e+02, 1.16000000e+02, 1.53843038e+00, 2.70000000e+01],\n",
       "       [2.70000000e+01, 1.01000000e+02, 1.60800129e+00, 4.00000000e+00],\n",
       "       [7.20000000e+01, 9.50000000e+01, 1.61198516e+00, 6.00000000e+00],\n",
       "       [3.60000000e+01, 1.18000000e+02, 1.64410418e+00, 2.80000000e+01],\n",
       "       [1.05000000e+02, 1.21000000e+02, 1.68555974e+00, 3.30000000e+01],\n",
       "       [1.20000000e+02, 1.22000000e+02, 1.69344714e+00, 3.90000000e+01],\n",
       "       [7.10000000e+01, 1.09000000e+02, 1.74048028e+00, 3.00000000e+00],\n",
       "       [3.40000000e+01, 1.23000000e+02, 1.75565908e+00, 4.00000000e+01],\n",
       "       [6.00000000e+01, 1.17000000e+02, 1.76523082e+00, 3.00000000e+00],\n",
       "       [9.00000000e+00, 1.25000000e+02, 1.80209744e+00, 4.10000000e+01],\n",
       "       [0.00000000e+00, 2.00000000e+00, 1.80916263e+00, 2.00000000e+00],\n",
       "       [5.10000000e+01, 9.40000000e+01, 1.84139836e+00, 3.00000000e+00],\n",
       "       [3.70000000e+01, 1.27000000e+02, 1.84659133e+00, 4.20000000e+01],\n",
       "       [2.00000000e+01, 7.90000000e+01, 2.02559036e+00, 3.00000000e+00],\n",
       "       [1.30000000e+02, 1.31000000e+02, 2.06197109e+00, 4.50000000e+01],\n",
       "       [6.30000000e+01, 1.26000000e+02, 2.06691602e+00, 4.00000000e+00],\n",
       "       [1.32000000e+02, 1.33000000e+02, 2.06740485e+00, 4.90000000e+01],\n",
       "       [5.30000000e+01, 1.24000000e+02, 2.11066402e+00, 4.00000000e+00],\n",
       "       [1.19000000e+02, 1.29000000e+02, 2.12165737e+00, 7.00000000e+00],\n",
       "       [1.34000000e+02, 1.36000000e+02, 2.14110938e+00, 5.60000000e+01],\n",
       "       [3.30000000e+01, 1.37000000e+02, 2.19263975e+00, 5.70000000e+01],\n",
       "       [4.00000000e+01, 1.38000000e+02, 2.19266344e+00, 5.80000000e+01],\n",
       "       [4.30000000e+01, 1.39000000e+02, 2.30868770e+00, 5.90000000e+01],\n",
       "       [5.70000000e+01, 1.40000000e+02, 2.46509983e+00, 6.00000000e+01],\n",
       "       [4.60000000e+01, 1.41000000e+02, 2.50192328e+00, 6.10000000e+01],\n",
       "       [1.10000000e+01, 6.70000000e+01, 2.58329591e+00, 2.00000000e+00],\n",
       "       [3.00000000e+00, 1.28000000e+02, 2.92133447e+00, 3.00000000e+00],\n",
       "       [3.90000000e+01, 1.35000000e+02, 3.15691048e+00, 5.00000000e+00],\n",
       "       [1.42000000e+02, 1.43000000e+02, 3.22802854e+00, 6.30000000e+01],\n",
       "       [7.00000000e+01, 1.45000000e+02, 3.25194715e+00, 6.00000000e+00],\n",
       "       [1.04000000e+02, 1.46000000e+02, 3.29149040e+00, 6.50000000e+01],\n",
       "       [8.00000000e+01, 1.48000000e+02, 3.33578297e+00, 6.70000000e+01],\n",
       "       [1.47000000e+02, 1.49000000e+02, 3.38877652e+00, 7.30000000e+01],\n",
       "       [1.00000000e+00, 1.50000000e+02, 3.69225242e+00, 7.40000000e+01],\n",
       "       [1.44000000e+02, 1.51000000e+02, 3.77594083e+00, 7.70000000e+01]])"
      ]
     },
     "execution_count": 99,
     "metadata": {},
     "output_type": "execute_result"
    }
   ],
   "source": [
    "linkage_matrix"
   ]
  },
  {
   "cell_type": "code",
   "execution_count": 100,
   "metadata": {
    "ExecuteTime": {
     "end_time": "2022-06-10T14:14:26.109666Z",
     "start_time": "2022-06-10T14:14:26.081399Z"
    }
   },
   "outputs": [],
   "source": [
    "%matplotlib inline"
   ]
  },
  {
   "cell_type": "code",
   "execution_count": 101,
   "metadata": {},
   "outputs": [
    {
     "data": {
      "text/plain": [
       "array([['100%_Bran (3-68.4)'],\n",
       "       ['100%_Natural_Bran (3-34.0)'],\n",
       "       ['All-Bran (3-59.4)'],\n",
       "       ['All-Bran_with_Extra_Fiber (3-93.7)'],\n",
       "       ['Almond_Delight (3-34.4)'],\n",
       "       ['Apple_Cinnamon_Cheerios (1-29.5)'],\n",
       "       ['Apple_Jacks (2-33.2)'],\n",
       "       ['Basic_4 (3-37.0)'],\n",
       "       ['Bran_Chex (1-49.1)'],\n",
       "       ['Bran_Flakes (3-53.3)'],\n",
       "       [\"Cap'n'Crunch (2-18.0)\"],\n",
       "       ['Cheerios (1-50.8)'],\n",
       "       ['Cinnamon_Toast_Crunch (2-19.8)'],\n",
       "       ['Clusters (3-40.4)'],\n",
       "       ['Cocoa_Puffs (2-22.7)'],\n",
       "       ['Corn_Chex (1-41.4)'],\n",
       "       ['Corn_Flakes (1-45.9)'],\n",
       "       ['Corn_Pops (2-35.8)'],\n",
       "       ['Count_Chocula (2-22.4)'],\n",
       "       [\"Cracklin'_Oat_Bran (3-40.4)\"],\n",
       "       ['Cream_of_Wheat_(Quick) (2-64.5)'],\n",
       "       ['Crispix (3-46.9)'],\n",
       "       ['Crispy_Wheat_&_Raisins (3-36.2)'],\n",
       "       ['Double_Chex (3-44.3)'],\n",
       "       ['Froot_Loops (2-32.2)'],\n",
       "       ['Frosted_Flakes (1-31.4)'],\n",
       "       ['Frosted_Mini-Wheats (2-58.3)'],\n",
       "       ['Fruit_&_Fibre_Dates,_Walnuts,_and_Oats (3-40.9)'],\n",
       "       ['Fruitful_Bran (3-41.0)'],\n",
       "       ['Fruity_Pebbles (2-28.0)'],\n",
       "       ['Golden_Crisp (1-35.3)'],\n",
       "       ['Golden_Grahams (2-23.8)'],\n",
       "       ['Grape_Nuts_Flakes (3-52.1)'],\n",
       "       ['Grape-Nuts (3-53.4)'],\n",
       "       ['Great_Grains_Pecan (3-45.8)'],\n",
       "       ['Honey_Graham_Ohs (2-21.9)'],\n",
       "       ['Honey_Nut_Cheerios (1-31.1)'],\n",
       "       ['Honey-comb (1-28.7)'],\n",
       "       ['Just_Right_Crunchy__Nuggets (3-36.5)'],\n",
       "       ['Just_Right_Fruit_&_Nut (3-36.5)'],\n",
       "       ['Kix (2-39.2)'],\n",
       "       ['Life (2-45.3)'],\n",
       "       ['Lucky_Charms (2-26.7)'],\n",
       "       ['Maypo (2-54.9)'],\n",
       "       ['Muesli_Raisins,_Dates,_&_Almonds (3-37.1)'],\n",
       "       ['Muesli_Raisins,_Peaches,_&_Pecans (3-34.1)'],\n",
       "       ['Mueslix_Crispy_Blend (3-30.3)'],\n",
       "       ['Multi-Grain_Cheerios (1-40.1)'],\n",
       "       ['Nut&Honey_Crunch (2-29.9)'],\n",
       "       ['Nutri-Grain_Almond-Raisin (3-40.7)'],\n",
       "       ['Nutri-grain_Wheat (3-59.6)'],\n",
       "       ['Oatmeal_Raisin_Crisp (3-30.5)'],\n",
       "       ['Post_Nat._Raisin_Bran (3-37.8)'],\n",
       "       ['Product_19 (3-41.5)'],\n",
       "       ['Puffed_Rice (3-60.8)'],\n",
       "       ['Puffed_Wheat (3-63.0)'],\n",
       "       ['Quaker_Oat_Squares (3-49.5)'],\n",
       "       ['Quaker_Oatmeal (1-50.8)'],\n",
       "       ['Raisin_Bran (2-39.3)'],\n",
       "       ['Raisin_Nut_Bran (3-39.7)'],\n",
       "       ['Raisin_Squares (3-55.3)'],\n",
       "       ['Rice_Chex (1-42.0)'],\n",
       "       ['Rice_Krispies (1-40.6)'],\n",
       "       ['Shredded_Wheat (1-68.2)'],\n",
       "       [\"Shredded_Wheat_'n'Bran (1-74.5)\"],\n",
       "       ['Shredded_Wheat_spoon_size (1-72.8)'],\n",
       "       ['Smacks (2-31.2)'],\n",
       "       ['Special_K (1-53.1)'],\n",
       "       ['Strawberry_Fruit_Wheats (2-59.4)'],\n",
       "       ['Total_Corn_Flakes (3-38.8)'],\n",
       "       ['Total_Raisin_Bran (3-28.6)'],\n",
       "       ['Total_Whole_Grain (3-46.7)'],\n",
       "       ['Triples (3-39.1)'],\n",
       "       ['Trix (2-27.8)'],\n",
       "       ['Wheat_Chex (1-49.8)'],\n",
       "       ['Wheaties (1-51.6)'],\n",
       "       ['Wheaties_Honey_Gold (1-36.2)']], dtype=object)"
      ]
     },
     "execution_count": 101,
     "metadata": {},
     "output_type": "execute_result"
    }
   ],
   "source": [
    "cereal_label.values"
   ]
  },
  {
   "cell_type": "code",
   "execution_count": 102,
   "metadata": {
    "ExecuteTime": {
     "end_time": "2022-06-10T14:14:31.068907Z",
     "start_time": "2022-06-10T14:14:29.170769Z"
    },
    "scrolled": true
   },
   "outputs": [
    {
     "data": {
      "image/png": "[encoded data removed]",
      "text/plain": [
       "<Figure size 800x480 with 1 Axes>"
      ]
     },
     "metadata": {
      "needs_background": "light"
     },
     "output_type": "display_data"
    }
   ],
   "source": [
    "#dendrogram\n",
    "from matplotlib.pyplot import figure\n",
    "\n",
    "figure(figsize=(10, 6), dpi=80)\n",
    "\n",
    "dendrogram(linkage_matrix,labels=cereal_label.values)\n",
    "plt.tight_layout()\n",
    "plt.show()0"
   ]
  },
  {
   "cell_type": "markdown",
   "metadata": {},
   "source": [
    "### Instantiating AgglomerativeClustering object"
   ]
  },
  {
   "cell_type": "code",
   "execution_count": 103,
   "metadata": {
    "ExecuteTime": {
     "end_time": "2022-06-10T14:20:16.431492Z",
     "start_time": "2022-06-10T14:20:16.419186Z"
    }
   },
   "outputs": [],
   "source": [
    "agg_clust =AgglomerativeClustering(n_clusters=6 ,affinity=\"euclidean\" ,linkage = \"ward\")"
   ]
  },
  {
   "cell_type": "markdown",
   "metadata": {},
   "source": [
    "### Fit the hierarchical clustering and return cluster labels."
   ]
  },
  {
   "cell_type": "code",
   "execution_count": 104,
   "metadata": {
    "ExecuteTime": {
     "end_time": "2022-06-10T14:22:13.482530Z",
     "start_time": "2022-06-10T14:22:13.455908Z"
    }
   },
   "outputs": [],
   "source": [
    "##agg_clust.fit(std_cereals)\n",
    "agg_clusters = agg_clust.fit_predict(std_cereals)\n",
    "\n",
    "ag=pd.DataFrame(agg_clusters,columns=['agg_Cluster'])"
   ]
  },
  {
   "cell_type": "code",
   "execution_count": 105,
   "metadata": {
    "ExecuteTime": {
     "end_time": "2022-06-10T14:23:12.933104Z",
     "start_time": "2022-06-10T14:23:12.921715Z"
    }
   },
   "outputs": [
    {
     "data": {
      "text/plain": [
       "array([3, 0, 3, 3, 4, 4, 4, 0, 2, 2, 4, 2, 4, 2, 4, 1, 1, 4, 4, 2, 2, 1,\n",
       "       4, 1, 4, 4, 2, 0, 0, 4, 4, 4, 2, 2, 2, 4, 4, 4, 1, 0, 1, 2, 4, 2,\n",
       "       0, 0, 0, 2, 4, 0, 2, 0, 0, 1, 5, 5, 2, 2, 0, 2, 2, 1, 1, 2, 2, 2,\n",
       "       4, 2, 2, 1, 0, 1, 1, 4, 2, 2, 4], dtype=int64)"
      ]
     },
     "execution_count": 105,
     "metadata": {},
     "output_type": "execute_result"
    }
   ],
   "source": [
    "agg_clusters = agg_clust.fit_predict(std_cereals)\n",
    "len(agg_clusters)\n",
    "agg_clusters"
   ]
  },
  {
   "cell_type": "code",
   "execution_count": 106,
   "metadata": {},
   "outputs": [
    {
     "data": {
      "text/html": [
       "<div>\n",
       "<style scoped>\n",
       "    .dataframe tbody tr th:only-of-type {\n",
       "        vertical-align: middle;\n",
       "    }\n",
       "\n",
       "    .dataframe tbody tr th {\n",
       "        vertical-align: top;\n",
       "    }\n",
       "\n",
       "    .dataframe thead th {\n",
       "        text-align: right;\n",
       "    }\n",
       "</style>\n",
       "<table border=\"1\" class=\"dataframe\">\n",
       "  <thead>\n",
       "    <tr style=\"text-align: right;\">\n",
       "      <th></th>\n",
       "      <th>label</th>\n",
       "      <th>agg_Cluster</th>\n",
       "    </tr>\n",
       "  </thead>\n",
       "  <tbody>\n",
       "    <tr>\n",
       "      <th>0</th>\n",
       "      <td>100%_Bran (3-68.4)</td>\n",
       "      <td>3</td>\n",
       "    </tr>\n",
       "    <tr>\n",
       "      <th>1</th>\n",
       "      <td>100%_Natural_Bran (3-34.0)</td>\n",
       "      <td>0</td>\n",
       "    </tr>\n",
       "    <tr>\n",
       "      <th>2</th>\n",
       "      <td>All-Bran (3-59.4)</td>\n",
       "      <td>3</td>\n",
       "    </tr>\n",
       "    <tr>\n",
       "      <th>3</th>\n",
       "      <td>All-Bran_with_Extra_Fiber (3-93.7)</td>\n",
       "      <td>3</td>\n",
       "    </tr>\n",
       "    <tr>\n",
       "      <th>4</th>\n",
       "      <td>Almond_Delight (3-34.4)</td>\n",
       "      <td>4</td>\n",
       "    </tr>\n",
       "    <tr>\n",
       "      <th>...</th>\n",
       "      <td>...</td>\n",
       "      <td>...</td>\n",
       "    </tr>\n",
       "    <tr>\n",
       "      <th>72</th>\n",
       "      <td>Triples (3-39.1)</td>\n",
       "      <td>1</td>\n",
       "    </tr>\n",
       "    <tr>\n",
       "      <th>73</th>\n",
       "      <td>Trix (2-27.8)</td>\n",
       "      <td>4</td>\n",
       "    </tr>\n",
       "    <tr>\n",
       "      <th>74</th>\n",
       "      <td>Wheat_Chex (1-49.8)</td>\n",
       "      <td>2</td>\n",
       "    </tr>\n",
       "    <tr>\n",
       "      <th>75</th>\n",
       "      <td>Wheaties (1-51.6)</td>\n",
       "      <td>2</td>\n",
       "    </tr>\n",
       "    <tr>\n",
       "      <th>76</th>\n",
       "      <td>Wheaties_Honey_Gold (1-36.2)</td>\n",
       "      <td>4</td>\n",
       "    </tr>\n",
       "  </tbody>\n",
       "</table>\n",
       "<p>77 rows × 2 columns</p>\n",
       "</div>"
      ],
      "text/plain": [
       "                                 label  agg_Cluster\n",
       "0                   100%_Bran (3-68.4)            3\n",
       "1           100%_Natural_Bran (3-34.0)            0\n",
       "2                    All-Bran (3-59.4)            3\n",
       "3   All-Bran_with_Extra_Fiber (3-93.7)            3\n",
       "4              Almond_Delight (3-34.4)            4\n",
       "..                                 ...          ...\n",
       "72                    Triples (3-39.1)            1\n",
       "73                       Trix (2-27.8)            4\n",
       "74                 Wheat_Chex (1-49.8)            2\n",
       "75                   Wheaties (1-51.6)            2\n",
       "76        Wheaties_Honey_Gold (1-36.2)            4\n",
       "\n",
       "[77 rows x 2 columns]"
      ]
     },
     "execution_count": 106,
     "metadata": {},
     "output_type": "execute_result"
    }
   ],
   "source": [
    "agg_result=pd.concat([cereal_label,ag],axis=1)\n",
    "agg_result"
   ]
  },
  {
   "cell_type": "code",
   "execution_count": 107,
   "metadata": {},
   "outputs": [
    {
     "data": {
      "text/html": [
       "<div>\n",
       "<style scoped>\n",
       "    .dataframe tbody tr th:only-of-type {\n",
       "        vertical-align: middle;\n",
       "    }\n",
       "\n",
       "    .dataframe tbody tr th {\n",
       "        vertical-align: top;\n",
       "    }\n",
       "\n",
       "    .dataframe thead th {\n",
       "        text-align: right;\n",
       "    }\n",
       "</style>\n",
       "<table border=\"1\" class=\"dataframe\">\n",
       "  <thead>\n",
       "    <tr style=\"text-align: right;\">\n",
       "      <th></th>\n",
       "      <th>calories</th>\n",
       "      <th>protein</th>\n",
       "      <th>fat</th>\n",
       "      <th>sodium</th>\n",
       "      <th>fiber</th>\n",
       "      <th>carbo</th>\n",
       "      <th>sugars</th>\n",
       "      <th>potass</th>\n",
       "      <th>vitamins</th>\n",
       "      <th>weight</th>\n",
       "      <th>cups</th>\n",
       "    </tr>\n",
       "  </thead>\n",
       "  <tbody>\n",
       "    <tr>\n",
       "      <th>0</th>\n",
       "      <td>70</td>\n",
       "      <td>4</td>\n",
       "      <td>1</td>\n",
       "      <td>130</td>\n",
       "      <td>10.0000</td>\n",
       "      <td>5.0000</td>\n",
       "      <td>6.0000</td>\n",
       "      <td>280.0000</td>\n",
       "      <td>25</td>\n",
       "      <td>1.0000</td>\n",
       "      <td>0.3300</td>\n",
       "    </tr>\n",
       "    <tr>\n",
       "      <th>1</th>\n",
       "      <td>120</td>\n",
       "      <td>3</td>\n",
       "      <td>5</td>\n",
       "      <td>15</td>\n",
       "      <td>2.0000</td>\n",
       "      <td>8.0000</td>\n",
       "      <td>8.0000</td>\n",
       "      <td>135.0000</td>\n",
       "      <td>0</td>\n",
       "      <td>1.0000</td>\n",
       "      <td>1.0000</td>\n",
       "    </tr>\n",
       "    <tr>\n",
       "      <th>2</th>\n",
       "      <td>70</td>\n",
       "      <td>4</td>\n",
       "      <td>1</td>\n",
       "      <td>260</td>\n",
       "      <td>9.0000</td>\n",
       "      <td>7.0000</td>\n",
       "      <td>5.0000</td>\n",
       "      <td>320.0000</td>\n",
       "      <td>25</td>\n",
       "      <td>1.0000</td>\n",
       "      <td>0.3300</td>\n",
       "    </tr>\n",
       "    <tr>\n",
       "      <th>3</th>\n",
       "      <td>50</td>\n",
       "      <td>4</td>\n",
       "      <td>0</td>\n",
       "      <td>140</td>\n",
       "      <td>14.0000</td>\n",
       "      <td>8.0000</td>\n",
       "      <td>0.0000</td>\n",
       "      <td>330.0000</td>\n",
       "      <td>25</td>\n",
       "      <td>1.0000</td>\n",
       "      <td>0.5000</td>\n",
       "    </tr>\n",
       "    <tr>\n",
       "      <th>4</th>\n",
       "      <td>110</td>\n",
       "      <td>2</td>\n",
       "      <td>2</td>\n",
       "      <td>200</td>\n",
       "      <td>1.0000</td>\n",
       "      <td>14.0000</td>\n",
       "      <td>8.0000</td>\n",
       "      <td>NaN</td>\n",
       "      <td>25</td>\n",
       "      <td>1.0000</td>\n",
       "      <td>0.7500</td>\n",
       "    </tr>\n",
       "  </tbody>\n",
       "</table>\n",
       "</div>"
      ],
      "text/plain": [
       "   calories  protein  fat  sodium   fiber   carbo  sugars   potass  vitamins  \\\n",
       "0        70        4    1     130 10.0000  5.0000  6.0000 280.0000        25   \n",
       "1       120        3    5      15  2.0000  8.0000  8.0000 135.0000         0   \n",
       "2        70        4    1     260  9.0000  7.0000  5.0000 320.0000        25   \n",
       "3        50        4    0     140 14.0000  8.0000  0.0000 330.0000        25   \n",
       "4       110        2    2     200  1.0000 14.0000  8.0000      NaN        25   \n",
       "\n",
       "   weight   cups  \n",
       "0  1.0000 0.3300  \n",
       "1  1.0000 1.0000  \n",
       "2  1.0000 0.3300  \n",
       "3  1.0000 0.5000  \n",
       "4  1.0000 0.7500  "
      ]
     },
     "execution_count": 107,
     "metadata": {},
     "output_type": "execute_result"
    }
   ],
   "source": [
    "cereals.head()"
   ]
  },
  {
   "cell_type": "code",
   "execution_count": 108,
   "metadata": {},
   "outputs": [
    {
     "data": {
      "text/plain": [
       "<AxesSubplot: xlabel='calories', ylabel='protein'>"
      ]
     },
     "execution_count": 108,
     "metadata": {},
     "output_type": "execute_result"
    },
    {
     "data": {
      "image/png": "[encoded data removed]",
      "text/plain": [
       "<Figure size 432x288 with 1 Axes>"
      ]
     },
     "metadata": {
      "needs_background": "light"
     },
     "output_type": "display_data"
    }
   ],
   "source": [
    "import matplotlib.pyplot as plt\n",
    "import seaborn as sns\n",
    "sns.scatterplot(x=cereals['calories'],y=cereals['protein'],hue=agg_result['agg_Cluster'])\n"
   ]
  },
  {
   "cell_type": "code",
   "execution_count": null,
   "metadata": {},
   "outputs": [],
   "source": []
  },
  {
   "cell_type": "code",
   "execution_count": null,
   "metadata": {},
   "outputs": [],
   "source": []
  },
  {
   "cell_type": "code",
   "execution_count": null,
   "metadata": {},
   "outputs": [],
   "source": []
  },
  {
   "cell_type": "code",
   "execution_count": 109,
   "metadata": {
    "ExecuteTime": {
     "end_time": "2022-06-10T14:24:06.947678Z",
     "start_time": "2022-06-10T14:24:06.939945Z"
    }
   },
   "outputs": [],
   "source": [
    "#agg_result = pd.DataFrame({\"label\":cereal_label , \"agg_cluster\" : agg_clusters} )"
   ]
  },
  {
   "cell_type": "code",
   "execution_count": 110,
   "metadata": {
    "ExecuteTime": {
     "end_time": "2022-06-10T14:26:09.171857Z",
     "start_time": "2022-06-10T14:26:09.153145Z"
    }
   },
   "outputs": [
    {
     "data": {
      "text/html": [
       "<div>\n",
       "<style scoped>\n",
       "    .dataframe tbody tr th:only-of-type {\n",
       "        vertical-align: middle;\n",
       "    }\n",
       "\n",
       "    .dataframe tbody tr th {\n",
       "        vertical-align: top;\n",
       "    }\n",
       "\n",
       "    .dataframe thead th {\n",
       "        text-align: right;\n",
       "    }\n",
       "</style>\n",
       "<table border=\"1\" class=\"dataframe\">\n",
       "  <thead>\n",
       "    <tr style=\"text-align: right;\">\n",
       "      <th></th>\n",
       "      <th>label</th>\n",
       "      <th>agg_Cluster</th>\n",
       "    </tr>\n",
       "  </thead>\n",
       "  <tbody>\n",
       "    <tr>\n",
       "      <th>0</th>\n",
       "      <td>100%_Bran (3-68.4)</td>\n",
       "      <td>3</td>\n",
       "    </tr>\n",
       "    <tr>\n",
       "      <th>1</th>\n",
       "      <td>100%_Natural_Bran (3-34.0)</td>\n",
       "      <td>0</td>\n",
       "    </tr>\n",
       "    <tr>\n",
       "      <th>2</th>\n",
       "      <td>All-Bran (3-59.4)</td>\n",
       "      <td>3</td>\n",
       "    </tr>\n",
       "    <tr>\n",
       "      <th>3</th>\n",
       "      <td>All-Bran_with_Extra_Fiber (3-93.7)</td>\n",
       "      <td>3</td>\n",
       "    </tr>\n",
       "    <tr>\n",
       "      <th>4</th>\n",
       "      <td>Almond_Delight (3-34.4)</td>\n",
       "      <td>4</td>\n",
       "    </tr>\n",
       "    <tr>\n",
       "      <th>5</th>\n",
       "      <td>Apple_Cinnamon_Cheerios (1-29.5)</td>\n",
       "      <td>4</td>\n",
       "    </tr>\n",
       "    <tr>\n",
       "      <th>6</th>\n",
       "      <td>Apple_Jacks (2-33.2)</td>\n",
       "      <td>4</td>\n",
       "    </tr>\n",
       "    <tr>\n",
       "      <th>7</th>\n",
       "      <td>Basic_4 (3-37.0)</td>\n",
       "      <td>0</td>\n",
       "    </tr>\n",
       "    <tr>\n",
       "      <th>8</th>\n",
       "      <td>Bran_Chex (1-49.1)</td>\n",
       "      <td>2</td>\n",
       "    </tr>\n",
       "    <tr>\n",
       "      <th>9</th>\n",
       "      <td>Bran_Flakes (3-53.3)</td>\n",
       "      <td>2</td>\n",
       "    </tr>\n",
       "    <tr>\n",
       "      <th>10</th>\n",
       "      <td>Cap'n'Crunch (2-18.0)</td>\n",
       "      <td>4</td>\n",
       "    </tr>\n",
       "    <tr>\n",
       "      <th>11</th>\n",
       "      <td>Cheerios (1-50.8)</td>\n",
       "      <td>2</td>\n",
       "    </tr>\n",
       "    <tr>\n",
       "      <th>12</th>\n",
       "      <td>Cinnamon_Toast_Crunch (2-19.8)</td>\n",
       "      <td>4</td>\n",
       "    </tr>\n",
       "    <tr>\n",
       "      <th>13</th>\n",
       "      <td>Clusters (3-40.4)</td>\n",
       "      <td>2</td>\n",
       "    </tr>\n",
       "    <tr>\n",
       "      <th>14</th>\n",
       "      <td>Cocoa_Puffs (2-22.7)</td>\n",
       "      <td>4</td>\n",
       "    </tr>\n",
       "    <tr>\n",
       "      <th>15</th>\n",
       "      <td>Corn_Chex (1-41.4)</td>\n",
       "      <td>1</td>\n",
       "    </tr>\n",
       "    <tr>\n",
       "      <th>16</th>\n",
       "      <td>Corn_Flakes (1-45.9)</td>\n",
       "      <td>1</td>\n",
       "    </tr>\n",
       "    <tr>\n",
       "      <th>17</th>\n",
       "      <td>Corn_Pops (2-35.8)</td>\n",
       "      <td>4</td>\n",
       "    </tr>\n",
       "    <tr>\n",
       "      <th>18</th>\n",
       "      <td>Count_Chocula (2-22.4)</td>\n",
       "      <td>4</td>\n",
       "    </tr>\n",
       "    <tr>\n",
       "      <th>19</th>\n",
       "      <td>Cracklin'_Oat_Bran (3-40.4)</td>\n",
       "      <td>2</td>\n",
       "    </tr>\n",
       "  </tbody>\n",
       "</table>\n",
       "</div>"
      ],
      "text/plain": [
       "                                 label  agg_Cluster\n",
       "0                   100%_Bran (3-68.4)            3\n",
       "1           100%_Natural_Bran (3-34.0)            0\n",
       "2                    All-Bran (3-59.4)            3\n",
       "3   All-Bran_with_Extra_Fiber (3-93.7)            3\n",
       "4              Almond_Delight (3-34.4)            4\n",
       "5     Apple_Cinnamon_Cheerios (1-29.5)            4\n",
       "6                 Apple_Jacks (2-33.2)            4\n",
       "7                     Basic_4 (3-37.0)            0\n",
       "8                   Bran_Chex (1-49.1)            2\n",
       "9                 Bran_Flakes (3-53.3)            2\n",
       "10               Cap'n'Crunch (2-18.0)            4\n",
       "11                   Cheerios (1-50.8)            2\n",
       "12      Cinnamon_Toast_Crunch (2-19.8)            4\n",
       "13                   Clusters (3-40.4)            2\n",
       "14                Cocoa_Puffs (2-22.7)            4\n",
       "15                  Corn_Chex (1-41.4)            1\n",
       "16                Corn_Flakes (1-45.9)            1\n",
       "17                  Corn_Pops (2-35.8)            4\n",
       "18              Count_Chocula (2-22.4)            4\n",
       "19         Cracklin'_Oat_Bran (3-40.4)            2"
      ]
     },
     "execution_count": 110,
     "metadata": {},
     "output_type": "execute_result"
    }
   ],
   "source": [
    "agg_result.head(20)"
   ]
  },
  {
   "cell_type": "code",
   "execution_count": 111,
   "metadata": {
    "ExecuteTime": {
     "end_time": "2022-06-10T14:24:28.061518Z",
     "start_time": "2022-06-10T14:24:28.044549Z"
    }
   },
   "outputs": [
    {
     "data": {
      "text/html": [
       "<div>\n",
       "<style scoped>\n",
       "    .dataframe tbody tr th:only-of-type {\n",
       "        vertical-align: middle;\n",
       "    }\n",
       "\n",
       "    .dataframe tbody tr th {\n",
       "        vertical-align: top;\n",
       "    }\n",
       "\n",
       "    .dataframe thead th {\n",
       "        text-align: right;\n",
       "    }\n",
       "</style>\n",
       "<table border=\"1\" class=\"dataframe\">\n",
       "  <thead>\n",
       "    <tr style=\"text-align: right;\">\n",
       "      <th></th>\n",
       "      <th>label</th>\n",
       "      <th>agg_Cluster</th>\n",
       "    </tr>\n",
       "  </thead>\n",
       "  <tbody>\n",
       "    <tr>\n",
       "      <th>72</th>\n",
       "      <td>Triples (3-39.1)</td>\n",
       "      <td>1</td>\n",
       "    </tr>\n",
       "    <tr>\n",
       "      <th>73</th>\n",
       "      <td>Trix (2-27.8)</td>\n",
       "      <td>4</td>\n",
       "    </tr>\n",
       "    <tr>\n",
       "      <th>74</th>\n",
       "      <td>Wheat_Chex (1-49.8)</td>\n",
       "      <td>2</td>\n",
       "    </tr>\n",
       "    <tr>\n",
       "      <th>75</th>\n",
       "      <td>Wheaties (1-51.6)</td>\n",
       "      <td>2</td>\n",
       "    </tr>\n",
       "    <tr>\n",
       "      <th>76</th>\n",
       "      <td>Wheaties_Honey_Gold (1-36.2)</td>\n",
       "      <td>4</td>\n",
       "    </tr>\n",
       "  </tbody>\n",
       "</table>\n",
       "</div>"
      ],
      "text/plain": [
       "                           label  agg_Cluster\n",
       "72              Triples (3-39.1)            1\n",
       "73                 Trix (2-27.8)            4\n",
       "74           Wheat_Chex (1-49.8)            2\n",
       "75             Wheaties (1-51.6)            2\n",
       "76  Wheaties_Honey_Gold (1-36.2)            4"
      ]
     },
     "execution_count": 111,
     "metadata": {},
     "output_type": "execute_result"
    }
   ],
   "source": [
    "agg_result.tail()"
   ]
  },
  {
   "cell_type": "code",
   "execution_count": 112,
   "metadata": {
    "ExecuteTime": {
     "end_time": "2022-06-10T14:24:37.298632Z",
     "start_time": "2022-06-10T14:24:37.288968Z"
    }
   },
   "outputs": [
    {
     "data": {
      "text/plain": [
       "array([3, 0, 3, 3, 4, 4, 4, 0, 2, 2, 4, 2, 4, 2, 4, 1, 1, 4, 4, 2, 2, 1,\n",
       "       4, 1, 4, 4, 2, 0, 0, 4, 4, 4, 2, 2, 2, 4, 4, 4, 1, 0, 1, 2, 4, 2,\n",
       "       0, 0, 0, 2, 4, 0, 2, 0, 0, 1, 5, 5, 2, 2, 0, 2, 2, 1, 1, 2, 2, 2,\n",
       "       4, 2, 2, 1, 0, 1, 1, 4, 2, 2, 4], dtype=int64)"
      ]
     },
     "execution_count": 112,
     "metadata": {},
     "output_type": "execute_result"
    }
   ],
   "source": [
    "agg_clusters"
   ]
  },
  {
   "cell_type": "markdown",
   "metadata": {},
   "source": [
    "## K-Means Clustering"
   ]
  },
  {
   "cell_type": "markdown",
   "metadata": {},
   "source": [
    "### Instantiate KMeans"
   ]
  },
  {
   "cell_type": "code",
   "execution_count": 113,
   "metadata": {
    "ExecuteTime": {
     "end_time": "2022-06-10T14:37:10.857470Z",
     "start_time": "2022-06-10T14:37:10.850117Z"
    }
   },
   "outputs": [],
   "source": [
    "kmeans_object = KMeans(n_clusters=5,random_state=1234)"
   ]
  },
  {
   "cell_type": "markdown",
   "metadata": {},
   "source": [
    "### Train"
   ]
  },
  {
   "cell_type": "code",
   "execution_count": 114,
   "metadata": {
    "ExecuteTime": {
     "end_time": "2022-06-10T14:37:11.990097Z",
     "start_time": "2022-06-10T14:37:11.899706Z"
    }
   },
   "outputs": [
    {
     "data": {
      "text/html": [
       "<style>#sk-container-id-6 {color: black;background-color: white;}#sk-container-id-6 pre{padding: 0;}#sk-container-id-6 div.sk-toggleable {background-color: white;}#sk-container-id-6 label.sk-toggleable__label {cursor: pointer;display: block;width: 100%;margin-bottom: 0;padding: 0.3em;box-sizing: border-box;text-align: center;}#sk-container-id-6 label.sk-toggleable__label-arrow:before {content: \"▸\";float: left;margin-right: 0.25em;color: #696969;}#sk-container-id-6 label.sk-toggleable__label-arrow:hover:before {color: black;}#sk-container-id-6 div.sk-estimator:hover label.sk-toggleable__label-arrow:before {color: black;}#sk-container-id-6 div.sk-toggleable__content {max-height: 0;max-width: 0;overflow: hidden;text-align: left;background-color: #f0f8ff;}#sk-container-id-6 div.sk-toggleable__content pre {margin: 0.2em;color: black;border-radius: 0.25em;background-color: #f0f8ff;}#sk-container-id-6 input.sk-toggleable__control:checked~div.sk-toggleable__content {max-height: 200px;max-width: 100%;overflow: auto;}#sk-container-id-6 input.sk-toggleable__control:checked~label.sk-toggleable__label-arrow:before {content: \"▾\";}#sk-container-id-6 div.sk-estimator input.sk-toggleable__control:checked~label.sk-toggleable__label {background-color: #d4ebff;}#sk-container-id-6 div.sk-label input.sk-toggleable__control:checked~label.sk-toggleable__label {background-color: #d4ebff;}#sk-container-id-6 input.sk-hidden--visually {border: 0;clip: rect(1px 1px 1px 1px);clip: rect(1px, 1px, 1px, 1px);height: 1px;margin: -1px;overflow: hidden;padding: 0;position: absolute;width: 1px;}#sk-container-id-6 div.sk-estimator {font-family: monospace;background-color: #f0f8ff;border: 1px dotted black;border-radius: 0.25em;box-sizing: border-box;margin-bottom: 0.5em;}#sk-container-id-6 div.sk-estimator:hover {background-color: #d4ebff;}#sk-container-id-6 div.sk-parallel-item::after {content: \"\";width: 100%;border-bottom: 1px solid gray;flex-grow: 1;}#sk-container-id-6 div.sk-label:hover label.sk-toggleable__label {background-color: #d4ebff;}#sk-container-id-6 div.sk-serial::before {content: \"\";position: absolute;border-left: 1px solid gray;box-sizing: border-box;top: 0;bottom: 0;left: 50%;z-index: 0;}#sk-container-id-6 div.sk-serial {display: flex;flex-direction: column;align-items: center;background-color: white;padding-right: 0.2em;padding-left: 0.2em;position: relative;}#sk-container-id-6 div.sk-item {position: relative;z-index: 1;}#sk-container-id-6 div.sk-parallel {display: flex;align-items: stretch;justify-content: center;background-color: white;position: relative;}#sk-container-id-6 div.sk-item::before, #sk-container-id-6 div.sk-parallel-item::before {content: \"\";position: absolute;border-left: 1px solid gray;box-sizing: border-box;top: 0;bottom: 0;left: 50%;z-index: -1;}#sk-container-id-6 div.sk-parallel-item {display: flex;flex-direction: column;z-index: 1;position: relative;background-color: white;}#sk-container-id-6 div.sk-parallel-item:first-child::after {align-self: flex-end;width: 50%;}#sk-container-id-6 div.sk-parallel-item:last-child::after {align-self: flex-start;width: 50%;}#sk-container-id-6 div.sk-parallel-item:only-child::after {width: 0;}#sk-container-id-6 div.sk-dashed-wrapped {border: 1px dashed gray;margin: 0 0.4em 0.5em 0.4em;box-sizing: border-box;padding-bottom: 0.4em;background-color: white;}#sk-container-id-6 div.sk-label label {font-family: monospace;font-weight: bold;display: inline-block;line-height: 1.2em;}#sk-container-id-6 div.sk-label-container {text-align: center;}#sk-container-id-6 div.sk-container {/* jupyter's `normalize.less` sets `[hidden] { display: none; }` but bootstrap.min.css set `[hidden] { display: none !important; }` so we also need the `!important` here to be able to override the default hidden behavior on the sphinx rendered scikit-learn.org. See: https://github.com/scikit-learn/scikit-learn/issues/21755 */display: inline-block !important;position: relative;}#sk-container-id-6 div.sk-text-repr-fallback {display: none;}</style><div id=\"sk-container-id-6\" class=\"sk-top-container\"><div class=\"sk-text-repr-fallback\"><pre>KMeans(n_clusters=5, random_state=1234)</pre><b>In a Jupyter environment, please rerun this cell to show the HTML representation or trust the notebook. <br />On GitHub, the HTML representation is unable to render, please try loading this page with nbviewer.org.</b></div><div class=\"sk-container\" hidden><div class=\"sk-item\"><div class=\"sk-estimator sk-toggleable\"><input class=\"sk-toggleable__control sk-hidden--visually\" id=\"sk-estimator-id-6\" type=\"checkbox\" checked><label for=\"sk-estimator-id-6\" class=\"sk-toggleable__label sk-toggleable__label-arrow\">KMeans</label><div class=\"sk-toggleable__content\"><pre>KMeans(n_clusters=5, random_state=1234)</pre></div></div></div></div></div>"
      ],
      "text/plain": [
       "KMeans(n_clusters=5, random_state=1234)"
      ]
     },
     "execution_count": 114,
     "metadata": {},
     "output_type": "execute_result"
    }
   ],
   "source": [
    "kmeans_object.fit(std_cereals)"
   ]
  },
  {
   "cell_type": "markdown",
   "metadata": {},
   "source": [
    "### Predict"
   ]
  },
  {
   "cell_type": "code",
   "execution_count": 115,
   "metadata": {
    "ExecuteTime": {
     "end_time": "2022-06-10T14:37:12.878434Z",
     "start_time": "2022-06-10T14:37:12.870552Z"
    }
   },
   "outputs": [],
   "source": [
    "kmeans_clusters = kmeans_object.predict(std_cereals)"
   ]
  },
  {
   "cell_type": "code",
   "execution_count": 116,
   "metadata": {
    "ExecuteTime": {
     "end_time": "2022-06-10T14:37:13.098140Z",
     "start_time": "2022-06-10T14:37:13.084980Z"
    }
   },
   "outputs": [
    {
     "data": {
      "text/plain": [
       "array([3, 1, 3, 3, 2, 2, 2, 1, 0, 0, 2, 4, 2, 1, 2, 4, 4, 2, 2, 1, 0, 4,\n",
       "       2, 4, 2, 2, 0, 1, 1, 2, 2, 2, 0, 0, 1, 2, 2, 2, 4, 1, 4, 1, 2, 0,\n",
       "       1, 1, 1, 4, 2, 1, 4, 1, 1, 4, 0, 0, 0, 0, 1, 1, 0, 4, 4, 0, 0, 0,\n",
       "       2, 4, 0, 4, 1, 4, 4, 2, 4, 4, 2])"
      ]
     },
     "execution_count": 116,
     "metadata": {},
     "output_type": "execute_result"
    }
   ],
   "source": [
    "kmeans_clusters"
   ]
  },
  {
   "cell_type": "code",
   "execution_count": 117,
   "metadata": {},
   "outputs": [
    {
     "data": {
      "text/html": [
       "<div>\n",
       "<style scoped>\n",
       "    .dataframe tbody tr th:only-of-type {\n",
       "        vertical-align: middle;\n",
       "    }\n",
       "\n",
       "    .dataframe tbody tr th {\n",
       "        vertical-align: top;\n",
       "    }\n",
       "\n",
       "    .dataframe thead th {\n",
       "        text-align: right;\n",
       "    }\n",
       "</style>\n",
       "<table border=\"1\" class=\"dataframe\">\n",
       "  <thead>\n",
       "    <tr style=\"text-align: right;\">\n",
       "      <th></th>\n",
       "      <th>label</th>\n",
       "    </tr>\n",
       "  </thead>\n",
       "  <tbody>\n",
       "    <tr>\n",
       "      <th>0</th>\n",
       "      <td>100%_Bran (3-68.4)</td>\n",
       "    </tr>\n",
       "    <tr>\n",
       "      <th>1</th>\n",
       "      <td>100%_Natural_Bran (3-34.0)</td>\n",
       "    </tr>\n",
       "    <tr>\n",
       "      <th>2</th>\n",
       "      <td>All-Bran (3-59.4)</td>\n",
       "    </tr>\n",
       "    <tr>\n",
       "      <th>3</th>\n",
       "      <td>All-Bran_with_Extra_Fiber (3-93.7)</td>\n",
       "    </tr>\n",
       "    <tr>\n",
       "      <th>4</th>\n",
       "      <td>Almond_Delight (3-34.4)</td>\n",
       "    </tr>\n",
       "    <tr>\n",
       "      <th>...</th>\n",
       "      <td>...</td>\n",
       "    </tr>\n",
       "    <tr>\n",
       "      <th>72</th>\n",
       "      <td>Triples (3-39.1)</td>\n",
       "    </tr>\n",
       "    <tr>\n",
       "      <th>73</th>\n",
       "      <td>Trix (2-27.8)</td>\n",
       "    </tr>\n",
       "    <tr>\n",
       "      <th>74</th>\n",
       "      <td>Wheat_Chex (1-49.8)</td>\n",
       "    </tr>\n",
       "    <tr>\n",
       "      <th>75</th>\n",
       "      <td>Wheaties (1-51.6)</td>\n",
       "    </tr>\n",
       "    <tr>\n",
       "      <th>76</th>\n",
       "      <td>Wheaties_Honey_Gold (1-36.2)</td>\n",
       "    </tr>\n",
       "  </tbody>\n",
       "</table>\n",
       "<p>77 rows × 1 columns</p>\n",
       "</div>"
      ],
      "text/plain": [
       "                                 label\n",
       "0                   100%_Bran (3-68.4)\n",
       "1           100%_Natural_Bran (3-34.0)\n",
       "2                    All-Bran (3-59.4)\n",
       "3   All-Bran_with_Extra_Fiber (3-93.7)\n",
       "4              Almond_Delight (3-34.4)\n",
       "..                                 ...\n",
       "72                    Triples (3-39.1)\n",
       "73                       Trix (2-27.8)\n",
       "74                 Wheat_Chex (1-49.8)\n",
       "75                   Wheaties (1-51.6)\n",
       "76        Wheaties_Honey_Gold (1-36.2)\n",
       "\n",
       "[77 rows x 1 columns]"
      ]
     },
     "execution_count": 117,
     "metadata": {},
     "output_type": "execute_result"
    }
   ],
   "source": [
    "cereal_label"
   ]
  },
  {
   "cell_type": "code",
   "execution_count": 118,
   "metadata": {
    "ExecuteTime": {
     "end_time": "2022-06-10T14:37:13.600793Z",
     "start_time": "2022-06-10T14:37:13.582785Z"
    },
    "scrolled": false
   },
   "outputs": [
    {
     "data": {
      "text/html": [
       "<div>\n",
       "<style scoped>\n",
       "    .dataframe tbody tr th:only-of-type {\n",
       "        vertical-align: middle;\n",
       "    }\n",
       "\n",
       "    .dataframe tbody tr th {\n",
       "        vertical-align: top;\n",
       "    }\n",
       "\n",
       "    .dataframe thead th {\n",
       "        text-align: right;\n",
       "    }\n",
       "</style>\n",
       "<table border=\"1\" class=\"dataframe\">\n",
       "  <thead>\n",
       "    <tr style=\"text-align: right;\">\n",
       "      <th></th>\n",
       "      <th>label</th>\n",
       "      <th>kmeans_cluster</th>\n",
       "    </tr>\n",
       "  </thead>\n",
       "  <tbody>\n",
       "    <tr>\n",
       "      <th>0</th>\n",
       "      <td>100%_Bran (3-68.4)</td>\n",
       "      <td>3</td>\n",
       "    </tr>\n",
       "    <tr>\n",
       "      <th>1</th>\n",
       "      <td>100%_Natural_Bran (3-34.0)</td>\n",
       "      <td>1</td>\n",
       "    </tr>\n",
       "    <tr>\n",
       "      <th>2</th>\n",
       "      <td>All-Bran (3-59.4)</td>\n",
       "      <td>3</td>\n",
       "    </tr>\n",
       "    <tr>\n",
       "      <th>3</th>\n",
       "      <td>All-Bran_with_Extra_Fiber (3-93.7)</td>\n",
       "      <td>3</td>\n",
       "    </tr>\n",
       "    <tr>\n",
       "      <th>4</th>\n",
       "      <td>Almond_Delight (3-34.4)</td>\n",
       "      <td>2</td>\n",
       "    </tr>\n",
       "    <tr>\n",
       "      <th>5</th>\n",
       "      <td>Apple_Cinnamon_Cheerios (1-29.5)</td>\n",
       "      <td>2</td>\n",
       "    </tr>\n",
       "    <tr>\n",
       "      <th>6</th>\n",
       "      <td>Apple_Jacks (2-33.2)</td>\n",
       "      <td>2</td>\n",
       "    </tr>\n",
       "    <tr>\n",
       "      <th>7</th>\n",
       "      <td>Basic_4 (3-37.0)</td>\n",
       "      <td>1</td>\n",
       "    </tr>\n",
       "    <tr>\n",
       "      <th>8</th>\n",
       "      <td>Bran_Chex (1-49.1)</td>\n",
       "      <td>0</td>\n",
       "    </tr>\n",
       "    <tr>\n",
       "      <th>9</th>\n",
       "      <td>Bran_Flakes (3-53.3)</td>\n",
       "      <td>0</td>\n",
       "    </tr>\n",
       "    <tr>\n",
       "      <th>10</th>\n",
       "      <td>Cap'n'Crunch (2-18.0)</td>\n",
       "      <td>2</td>\n",
       "    </tr>\n",
       "    <tr>\n",
       "      <th>11</th>\n",
       "      <td>Cheerios (1-50.8)</td>\n",
       "      <td>4</td>\n",
       "    </tr>\n",
       "    <tr>\n",
       "      <th>12</th>\n",
       "      <td>Cinnamon_Toast_Crunch (2-19.8)</td>\n",
       "      <td>2</td>\n",
       "    </tr>\n",
       "    <tr>\n",
       "      <th>13</th>\n",
       "      <td>Clusters (3-40.4)</td>\n",
       "      <td>1</td>\n",
       "    </tr>\n",
       "    <tr>\n",
       "      <th>14</th>\n",
       "      <td>Cocoa_Puffs (2-22.7)</td>\n",
       "      <td>2</td>\n",
       "    </tr>\n",
       "    <tr>\n",
       "      <th>15</th>\n",
       "      <td>Corn_Chex (1-41.4)</td>\n",
       "      <td>4</td>\n",
       "    </tr>\n",
       "    <tr>\n",
       "      <th>16</th>\n",
       "      <td>Corn_Flakes (1-45.9)</td>\n",
       "      <td>4</td>\n",
       "    </tr>\n",
       "    <tr>\n",
       "      <th>17</th>\n",
       "      <td>Corn_Pops (2-35.8)</td>\n",
       "      <td>2</td>\n",
       "    </tr>\n",
       "    <tr>\n",
       "      <th>18</th>\n",
       "      <td>Count_Chocula (2-22.4)</td>\n",
       "      <td>2</td>\n",
       "    </tr>\n",
       "    <tr>\n",
       "      <th>19</th>\n",
       "      <td>Cracklin'_Oat_Bran (3-40.4)</td>\n",
       "      <td>1</td>\n",
       "    </tr>\n",
       "  </tbody>\n",
       "</table>\n",
       "</div>"
      ],
      "text/plain": [
       "                                 label  kmeans_cluster\n",
       "0                   100%_Bran (3-68.4)               3\n",
       "1           100%_Natural_Bran (3-34.0)               1\n",
       "2                    All-Bran (3-59.4)               3\n",
       "3   All-Bran_with_Extra_Fiber (3-93.7)               3\n",
       "4              Almond_Delight (3-34.4)               2\n",
       "5     Apple_Cinnamon_Cheerios (1-29.5)               2\n",
       "6                 Apple_Jacks (2-33.2)               2\n",
       "7                     Basic_4 (3-37.0)               1\n",
       "8                   Bran_Chex (1-49.1)               0\n",
       "9                 Bran_Flakes (3-53.3)               0\n",
       "10               Cap'n'Crunch (2-18.0)               2\n",
       "11                   Cheerios (1-50.8)               4\n",
       "12      Cinnamon_Toast_Crunch (2-19.8)               2\n",
       "13                   Clusters (3-40.4)               1\n",
       "14                Cocoa_Puffs (2-22.7)               2\n",
       "15                  Corn_Chex (1-41.4)               4\n",
       "16                Corn_Flakes (1-45.9)               4\n",
       "17                  Corn_Pops (2-35.8)               2\n",
       "18              Count_Chocula (2-22.4)               2\n",
       "19         Cracklin'_Oat_Bran (3-40.4)               1"
      ]
     },
     "execution_count": 118,
     "metadata": {},
     "output_type": "execute_result"
    }
   ],
   "source": [
    "kmeans_results = pd.DataFrame({'label':cereal_label['label'] , 'kmeans_cluster' : kmeans_clusters} )\n",
    "kmeans_results.head(20)"
   ]
  },
  {
   "cell_type": "markdown",
   "metadata": {},
   "source": [
    "### Inspecting cluster centroids to understand average statistics of each cluster\n",
    "\n",
    "    Using inverse_transform to retrive actual values from standardized data"
   ]
  },
  {
   "cell_type": "code",
   "execution_count": 119,
   "metadata": {
    "ExecuteTime": {
     "end_time": "2022-06-10T14:40:00.315616Z",
     "start_time": "2022-06-10T14:40:00.285380Z"
    }
   },
   "outputs": [
    {
     "data": {
      "text/html": [
       "<div>\n",
       "<style scoped>\n",
       "    .dataframe tbody tr th:only-of-type {\n",
       "        vertical-align: middle;\n",
       "    }\n",
       "\n",
       "    .dataframe tbody tr th {\n",
       "        vertical-align: top;\n",
       "    }\n",
       "\n",
       "    .dataframe thead th {\n",
       "        text-align: right;\n",
       "    }\n",
       "</style>\n",
       "<table border=\"1\" class=\"dataframe\">\n",
       "  <thead>\n",
       "    <tr style=\"text-align: right;\">\n",
       "      <th></th>\n",
       "      <th>calories</th>\n",
       "      <th>protein</th>\n",
       "      <th>fat</th>\n",
       "      <th>sodium</th>\n",
       "      <th>fiber</th>\n",
       "      <th>carbo</th>\n",
       "      <th>sugars</th>\n",
       "      <th>potass</th>\n",
       "      <th>vitamins</th>\n",
       "      <th>weight</th>\n",
       "      <th>cups</th>\n",
       "    </tr>\n",
       "  </thead>\n",
       "  <tbody>\n",
       "    <tr>\n",
       "      <th>0</th>\n",
       "      <td>89.3750</td>\n",
       "      <td>2.8125</td>\n",
       "      <td>0.3750</td>\n",
       "      <td>59.3750</td>\n",
       "      <td>2.4813</td>\n",
       "      <td>15.4877</td>\n",
       "      <td>3.3141</td>\n",
       "      <td>101.4792</td>\n",
       "      <td>14.0625</td>\n",
       "      <td>0.9269</td>\n",
       "      <td>0.7675</td>\n",
       "    </tr>\n",
       "    <tr>\n",
       "      <th>1</th>\n",
       "      <td>126.6667</td>\n",
       "      <td>3.1667</td>\n",
       "      <td>2.0556</td>\n",
       "      <td>156.9444</td>\n",
       "      <td>3.2222</td>\n",
       "      <td>14.1111</td>\n",
       "      <td>9.5000</td>\n",
       "      <td>155.5556</td>\n",
       "      <td>31.9444</td>\n",
       "      <td>1.1917</td>\n",
       "      <td>0.7000</td>\n",
       "    </tr>\n",
       "    <tr>\n",
       "      <th>2</th>\n",
       "      <td>110.9091</td>\n",
       "      <td>1.5455</td>\n",
       "      <td>1.0455</td>\n",
       "      <td>170.0000</td>\n",
       "      <td>0.5909</td>\n",
       "      <td>12.5000</td>\n",
       "      <td>11.3182</td>\n",
       "      <td>49.7121</td>\n",
       "      <td>25.0000</td>\n",
       "      <td>1.0000</td>\n",
       "      <td>0.8695</td>\n",
       "    </tr>\n",
       "    <tr>\n",
       "      <th>3</th>\n",
       "      <td>63.3333</td>\n",
       "      <td>4.0000</td>\n",
       "      <td>0.6667</td>\n",
       "      <td>176.6667</td>\n",
       "      <td>11.0000</td>\n",
       "      <td>6.6667</td>\n",
       "      <td>3.6667</td>\n",
       "      <td>310.0000</td>\n",
       "      <td>25.0000</td>\n",
       "      <td>1.0000</td>\n",
       "      <td>0.3867</td>\n",
       "    </tr>\n",
       "    <tr>\n",
       "      <th>4</th>\n",
       "      <td>105.0000</td>\n",
       "      <td>2.6667</td>\n",
       "      <td>0.5556</td>\n",
       "      <td>236.1111</td>\n",
       "      <td>1.2222</td>\n",
       "      <td>19.0556</td>\n",
       "      <td>3.1667</td>\n",
       "      <td>63.8889</td>\n",
       "      <td>41.6667</td>\n",
       "      <td>1.0000</td>\n",
       "      <td>1.0028</td>\n",
       "    </tr>\n",
       "  </tbody>\n",
       "</table>\n",
       "</div>"
      ],
      "text/plain": [
       "   calories  protein    fat   sodium   fiber   carbo  sugars   potass  \\\n",
       "0   89.3750   2.8125 0.3750  59.3750  2.4813 15.4877  3.3141 101.4792   \n",
       "1  126.6667   3.1667 2.0556 156.9444  3.2222 14.1111  9.5000 155.5556   \n",
       "2  110.9091   1.5455 1.0455 170.0000  0.5909 12.5000 11.3182  49.7121   \n",
       "3   63.3333   4.0000 0.6667 176.6667 11.0000  6.6667  3.6667 310.0000   \n",
       "4  105.0000   2.6667 0.5556 236.1111  1.2222 19.0556  3.1667  63.8889   \n",
       "\n",
       "   vitamins  weight   cups  \n",
       "0   14.0625  0.9269 0.7675  \n",
       "1   31.9444  1.1917 0.7000  \n",
       "2   25.0000  1.0000 0.8695  \n",
       "3   25.0000  1.0000 0.3867  \n",
       "4   41.6667  1.0000 1.0028  "
      ]
     },
     "execution_count": 119,
     "metadata": {},
     "output_type": "execute_result"
    }
   ],
   "source": [
    "cluster_centroids = pd.DataFrame(standardizer.inverse_transform(kmeans_object.cluster_centers_),\n",
    "                                 columns=cereals.columns)\n",
    "\n",
    "cluster_centroids"
   ]
  },
  {
   "cell_type": "markdown",
   "metadata": {},
   "source": [
    "### Identify right number of clusters"
   ]
  },
  {
   "cell_type": "code",
   "execution_count": 120,
   "metadata": {
    "ExecuteTime": {
     "end_time": "2022-06-10T14:51:44.338803Z",
     "start_time": "2022-06-10T14:51:39.969294Z"
    }
   },
   "outputs": [],
   "source": [
    "wss= {}\n",
    "\n",
    "for k in range(1, 21):\n",
    "    kmeans_loop = KMeans(n_clusters=k,n_init=30,max_iter=300,random_state=1000).fit(std_cereals)\n",
    "    clusters = kmeans_loop.labels_\n",
    "    wss[k] = kmeans_loop.inertia_ # Inertia: Sum of squared distances of samples to their closest cluster center\n",
    "\n",
    "\n",
    "    \n",
    "    "
   ]
  },
  {
   "cell_type": "markdown",
   "metadata": {},
   "source": [
    "inertia_: Sum of squared distances of samples to their closest cluster center"
   ]
  },
  {
   "cell_type": "code",
   "execution_count": 121,
   "metadata": {
    "ExecuteTime": {
     "end_time": "2022-06-10T14:51:46.476477Z",
     "start_time": "2022-06-10T14:51:46.462506Z"
    }
   },
   "outputs": [
    {
     "data": {
      "text/plain": [
       "{1: 847.0,\n",
       " 2: 686.4622338517573,\n",
       " 3: 584.7237118058638,\n",
       " 4: 489.39800731235425,\n",
       " 5: 411.3455717184148,\n",
       " 6: 353.7944614991775,\n",
       " 7: 313.7732091181265,\n",
       " 8: 276.2790231881626,\n",
       " 9: 251.54461350300483,\n",
       " 10: 225.14706141973494,\n",
       " 11: 205.2850615233169,\n",
       " 12: 185.3999493793474,\n",
       " 13: 169.4582206156929,\n",
       " 14: 156.69006024126605,\n",
       " 15: 141.726492321529,\n",
       " 16: 135.56593594429356,\n",
       " 17: 126.4900582214441,\n",
       " 18: 118.79712968347324,\n",
       " 19: 115.3341003222298,\n",
       " 20: 110.85194952428351}"
      ]
     },
     "execution_count": 121,
     "metadata": {},
     "output_type": "execute_result"
    }
   ],
   "source": [
    "wss"
   ]
  },
  {
   "cell_type": "code",
   "execution_count": 122,
   "metadata": {
    "ExecuteTime": {
     "end_time": "2022-06-10T14:52:25.080054Z",
     "start_time": "2022-06-10T14:52:25.063232Z"
    }
   },
   "outputs": [
    {
     "name": "stdout",
     "output_type": "stream",
     "text": [
      "[1, 2, 3, 4, 5, 6, 7, 8, 9, 10, 11, 12, 13, 14, 15, 16, 17, 18, 19, 20]\n"
     ]
    }
   ],
   "source": [
    "print(list(wss.keys()))"
   ]
  },
  {
   "cell_type": "code",
   "execution_count": 123,
   "metadata": {
    "ExecuteTime": {
     "end_time": "2022-06-10T14:52:33.318189Z",
     "start_time": "2022-06-10T14:52:33.309673Z"
    }
   },
   "outputs": [
    {
     "name": "stdout",
     "output_type": "stream",
     "text": [
      "[847.0, 686.4622338517573, 584.7237118058638, 489.39800731235425, 411.3455717184148, 353.7944614991775, 313.7732091181265, 276.2790231881626, 251.54461350300483, 225.14706141973494, 205.2850615233169, 185.3999493793474, 169.4582206156929, 156.69006024126605, 141.726492321529, 135.56593594429356, 126.4900582214441, 118.79712968347324, 115.3341003222298, 110.85194952428351]\n"
     ]
    }
   ],
   "source": [
    "print(list(wss.values()))"
   ]
  },
  {
   "cell_type": "code",
   "execution_count": 124,
   "metadata": {
    "ExecuteTime": {
     "end_time": "2022-06-10T14:54:20.435580Z",
     "start_time": "2022-06-10T14:54:20.086456Z"
    }
   },
   "outputs": [
    {
     "data": {
      "image/png": "[encoded data removed]",
      "text/plain": [
       "<Figure size 432x288 with 1 Axes>"
      ]
     },
     "metadata": {
      "needs_background": "light"
     },
     "output_type": "display_data"
    }
   ],
   "source": [
    "plt.figure()\n",
    "plt.plot(list(wss.keys()), list(wss.values()))\n",
    "plt.grid()\n",
    "plt.xlabel('Number of clusters')\n",
    "plt.ylabel('Total within sum of squares')\n",
    "plt.show()"
   ]
  },
  {
   "cell_type": "code",
   "execution_count": 125,
   "metadata": {
    "ExecuteTime": {
     "end_time": "2022-06-10T14:55:56.692867Z",
     "start_time": "2022-06-10T14:55:56.676117Z"
    }
   },
   "outputs": [],
   "source": [
    "best_kmeans = KMeans(n_clusters=8,random_state=1234)"
   ]
  },
  {
   "cell_type": "code",
   "execution_count": 126,
   "metadata": {
    "ExecuteTime": {
     "end_time": "2022-06-10T14:58:19.926758Z",
     "start_time": "2022-06-10T14:58:19.816896Z"
    }
   },
   "outputs": [
    {
     "data": {
      "text/html": [
       "<style>#sk-container-id-7 {color: black;background-color: white;}#sk-container-id-7 pre{padding: 0;}#sk-container-id-7 div.sk-toggleable {background-color: white;}#sk-container-id-7 label.sk-toggleable__label {cursor: pointer;display: block;width: 100%;margin-bottom: 0;padding: 0.3em;box-sizing: border-box;text-align: center;}#sk-container-id-7 label.sk-toggleable__label-arrow:before {content: \"▸\";float: left;margin-right: 0.25em;color: #696969;}#sk-container-id-7 label.sk-toggleable__label-arrow:hover:before {color: black;}#sk-container-id-7 div.sk-estimator:hover label.sk-toggleable__label-arrow:before {color: black;}#sk-container-id-7 div.sk-toggleable__content {max-height: 0;max-width: 0;overflow: hidden;text-align: left;background-color: #f0f8ff;}#sk-container-id-7 div.sk-toggleable__content pre {margin: 0.2em;color: black;border-radius: 0.25em;background-color: #f0f8ff;}#sk-container-id-7 input.sk-toggleable__control:checked~div.sk-toggleable__content {max-height: 200px;max-width: 100%;overflow: auto;}#sk-container-id-7 input.sk-toggleable__control:checked~label.sk-toggleable__label-arrow:before {content: \"▾\";}#sk-container-id-7 div.sk-estimator input.sk-toggleable__control:checked~label.sk-toggleable__label {background-color: #d4ebff;}#sk-container-id-7 div.sk-label input.sk-toggleable__control:checked~label.sk-toggleable__label {background-color: #d4ebff;}#sk-container-id-7 input.sk-hidden--visually {border: 0;clip: rect(1px 1px 1px 1px);clip: rect(1px, 1px, 1px, 1px);height: 1px;margin: -1px;overflow: hidden;padding: 0;position: absolute;width: 1px;}#sk-container-id-7 div.sk-estimator {font-family: monospace;background-color: #f0f8ff;border: 1px dotted black;border-radius: 0.25em;box-sizing: border-box;margin-bottom: 0.5em;}#sk-container-id-7 div.sk-estimator:hover {background-color: #d4ebff;}#sk-container-id-7 div.sk-parallel-item::after {content: \"\";width: 100%;border-bottom: 1px solid gray;flex-grow: 1;}#sk-container-id-7 div.sk-label:hover label.sk-toggleable__label {background-color: #d4ebff;}#sk-container-id-7 div.sk-serial::before {content: \"\";position: absolute;border-left: 1px solid gray;box-sizing: border-box;top: 0;bottom: 0;left: 50%;z-index: 0;}#sk-container-id-7 div.sk-serial {display: flex;flex-direction: column;align-items: center;background-color: white;padding-right: 0.2em;padding-left: 0.2em;position: relative;}#sk-container-id-7 div.sk-item {position: relative;z-index: 1;}#sk-container-id-7 div.sk-parallel {display: flex;align-items: stretch;justify-content: center;background-color: white;position: relative;}#sk-container-id-7 div.sk-item::before, #sk-container-id-7 div.sk-parallel-item::before {content: \"\";position: absolute;border-left: 1px solid gray;box-sizing: border-box;top: 0;bottom: 0;left: 50%;z-index: -1;}#sk-container-id-7 div.sk-parallel-item {display: flex;flex-direction: column;z-index: 1;position: relative;background-color: white;}#sk-container-id-7 div.sk-parallel-item:first-child::after {align-self: flex-end;width: 50%;}#sk-container-id-7 div.sk-parallel-item:last-child::after {align-self: flex-start;width: 50%;}#sk-container-id-7 div.sk-parallel-item:only-child::after {width: 0;}#sk-container-id-7 div.sk-dashed-wrapped {border: 1px dashed gray;margin: 0 0.4em 0.5em 0.4em;box-sizing: border-box;padding-bottom: 0.4em;background-color: white;}#sk-container-id-7 div.sk-label label {font-family: monospace;font-weight: bold;display: inline-block;line-height: 1.2em;}#sk-container-id-7 div.sk-label-container {text-align: center;}#sk-container-id-7 div.sk-container {/* jupyter's `normalize.less` sets `[hidden] { display: none; }` but bootstrap.min.css set `[hidden] { display: none !important; }` so we also need the `!important` here to be able to override the default hidden behavior on the sphinx rendered scikit-learn.org. See: https://github.com/scikit-learn/scikit-learn/issues/21755 */display: inline-block !important;position: relative;}#sk-container-id-7 div.sk-text-repr-fallback {display: none;}</style><div id=\"sk-container-id-7\" class=\"sk-top-container\"><div class=\"sk-text-repr-fallback\"><pre>KMeans(random_state=1234)</pre><b>In a Jupyter environment, please rerun this cell to show the HTML representation or trust the notebook. <br />On GitHub, the HTML representation is unable to render, please try loading this page with nbviewer.org.</b></div><div class=\"sk-container\" hidden><div class=\"sk-item\"><div class=\"sk-estimator sk-toggleable\"><input class=\"sk-toggleable__control sk-hidden--visually\" id=\"sk-estimator-id-7\" type=\"checkbox\" checked><label for=\"sk-estimator-id-7\" class=\"sk-toggleable__label sk-toggleable__label-arrow\">KMeans</label><div class=\"sk-toggleable__content\"><pre>KMeans(random_state=1234)</pre></div></div></div></div></div>"
      ],
      "text/plain": [
       "KMeans(random_state=1234)"
      ]
     },
     "execution_count": 126,
     "metadata": {},
     "output_type": "execute_result"
    }
   ],
   "source": [
    "best_kmeans.fit(std_cereals)"
   ]
  },
  {
   "cell_type": "code",
   "execution_count": 127,
   "metadata": {
    "ExecuteTime": {
     "end_time": "2022-06-10T14:58:31.599980Z",
     "start_time": "2022-06-10T14:58:31.580230Z"
    }
   },
   "outputs": [
    {
     "data": {
      "text/plain": [
       "array([2, 3, 2, 2, 7, 7, 7, 1, 0, 0, 7, 0, 7, 3, 7, 5, 5, 7, 7, 3, 4, 5,\n",
       "       7, 0, 7, 7, 4, 1, 1, 7, 7, 7, 0, 0, 3, 7, 7, 7, 5, 1, 5, 3, 7, 4,\n",
       "       3, 3, 1, 0, 7, 1, 0, 1, 1, 5, 6, 6, 0, 3, 1, 3, 4, 5, 5, 4, 4, 4,\n",
       "       7, 0, 4, 5, 1, 0, 5, 7, 0, 0, 7])"
      ]
     },
     "execution_count": 127,
     "metadata": {},
     "output_type": "execute_result"
    }
   ],
   "source": [
    "best_kmeans_labels = best_kmeans.predict(std_cereals)\n",
    "best_kmeans_labels"
   ]
  },
  {
   "cell_type": "code",
   "execution_count": 128,
   "metadata": {
    "ExecuteTime": {
     "end_time": "2022-06-10T14:59:03.390394Z",
     "start_time": "2022-06-10T14:59:03.355877Z"
    }
   },
   "outputs": [
    {
     "data": {
      "text/html": [
       "<div>\n",
       "<style scoped>\n",
       "    .dataframe tbody tr th:only-of-type {\n",
       "        vertical-align: middle;\n",
       "    }\n",
       "\n",
       "    .dataframe tbody tr th {\n",
       "        vertical-align: top;\n",
       "    }\n",
       "\n",
       "    .dataframe thead th {\n",
       "        text-align: right;\n",
       "    }\n",
       "</style>\n",
       "<table border=\"1\" class=\"dataframe\">\n",
       "  <thead>\n",
       "    <tr style=\"text-align: right;\">\n",
       "      <th></th>\n",
       "      <th>calories</th>\n",
       "      <th>protein</th>\n",
       "      <th>fat</th>\n",
       "      <th>sodium</th>\n",
       "      <th>fiber</th>\n",
       "      <th>carbo</th>\n",
       "      <th>sugars</th>\n",
       "      <th>potass</th>\n",
       "      <th>vitamins</th>\n",
       "      <th>weight</th>\n",
       "      <th>cups</th>\n",
       "    </tr>\n",
       "  </thead>\n",
       "  <tbody>\n",
       "    <tr>\n",
       "      <th>0</th>\n",
       "      <td>100.0000</td>\n",
       "      <td>3.3077</td>\n",
       "      <td>0.6923</td>\n",
       "      <td>198.8462</td>\n",
       "      <td>2.6923</td>\n",
       "      <td>16.0000</td>\n",
       "      <td>3.9231</td>\n",
       "      <td>104.2308</td>\n",
       "      <td>30.7692</td>\n",
       "      <td>1.0000</td>\n",
       "      <td>0.8185</td>\n",
       "    </tr>\n",
       "    <tr>\n",
       "      <th>1</th>\n",
       "      <td>132.0000</td>\n",
       "      <td>3.0000</td>\n",
       "      <td>1.4000</td>\n",
       "      <td>192.0000</td>\n",
       "      <td>3.6500</td>\n",
       "      <td>15.5500</td>\n",
       "      <td>10.9000</td>\n",
       "      <td>172.5000</td>\n",
       "      <td>40.0000</td>\n",
       "      <td>1.3450</td>\n",
       "      <td>0.7100</td>\n",
       "    </tr>\n",
       "    <tr>\n",
       "      <th>2</th>\n",
       "      <td>63.3333</td>\n",
       "      <td>4.0000</td>\n",
       "      <td>0.6667</td>\n",
       "      <td>176.6667</td>\n",
       "      <td>11.0000</td>\n",
       "      <td>6.6667</td>\n",
       "      <td>3.6667</td>\n",
       "      <td>310.0000</td>\n",
       "      <td>25.0000</td>\n",
       "      <td>1.0000</td>\n",
       "      <td>0.3867</td>\n",
       "    </tr>\n",
       "    <tr>\n",
       "      <th>3</th>\n",
       "      <td>117.7778</td>\n",
       "      <td>3.5556</td>\n",
       "      <td>2.7778</td>\n",
       "      <td>100.5556</td>\n",
       "      <td>2.6889</td>\n",
       "      <td>12.5892</td>\n",
       "      <td>7.6696</td>\n",
       "      <td>131.6667</td>\n",
       "      <td>19.4444</td>\n",
       "      <td>1.0000</td>\n",
       "      <td>0.6856</td>\n",
       "    </tr>\n",
       "    <tr>\n",
       "      <th>4</th>\n",
       "      <td>92.5000</td>\n",
       "      <td>2.7500</td>\n",
       "      <td>0.1250</td>\n",
       "      <td>11.8750</td>\n",
       "      <td>2.3750</td>\n",
       "      <td>17.0000</td>\n",
       "      <td>2.6250</td>\n",
       "      <td>106.0833</td>\n",
       "      <td>12.5000</td>\n",
       "      <td>0.9788</td>\n",
       "      <td>0.8300</td>\n",
       "    </tr>\n",
       "    <tr>\n",
       "      <th>5</th>\n",
       "      <td>108.0000</td>\n",
       "      <td>2.0000</td>\n",
       "      <td>0.4000</td>\n",
       "      <td>252.0000</td>\n",
       "      <td>0.4000</td>\n",
       "      <td>20.9000</td>\n",
       "      <td>3.1000</td>\n",
       "      <td>39.5000</td>\n",
       "      <td>47.5000</td>\n",
       "      <td>1.0000</td>\n",
       "      <td>1.0380</td>\n",
       "    </tr>\n",
       "    <tr>\n",
       "      <th>6</th>\n",
       "      <td>50.0000</td>\n",
       "      <td>1.5000</td>\n",
       "      <td>0.0000</td>\n",
       "      <td>0.0000</td>\n",
       "      <td>0.5000</td>\n",
       "      <td>11.5000</td>\n",
       "      <td>0.0000</td>\n",
       "      <td>32.5000</td>\n",
       "      <td>0.0000</td>\n",
       "      <td>0.5000</td>\n",
       "      <td>1.0000</td>\n",
       "    </tr>\n",
       "    <tr>\n",
       "      <th>7</th>\n",
       "      <td>110.9091</td>\n",
       "      <td>1.5455</td>\n",
       "      <td>1.0455</td>\n",
       "      <td>170.0000</td>\n",
       "      <td>0.5909</td>\n",
       "      <td>12.5000</td>\n",
       "      <td>11.3182</td>\n",
       "      <td>49.7121</td>\n",
       "      <td>25.0000</td>\n",
       "      <td>1.0000</td>\n",
       "      <td>0.8695</td>\n",
       "    </tr>\n",
       "  </tbody>\n",
       "</table>\n",
       "</div>"
      ],
      "text/plain": [
       "   calories  protein    fat   sodium   fiber   carbo  sugars   potass  \\\n",
       "0  100.0000   3.3077 0.6923 198.8462  2.6923 16.0000  3.9231 104.2308   \n",
       "1  132.0000   3.0000 1.4000 192.0000  3.6500 15.5500 10.9000 172.5000   \n",
       "2   63.3333   4.0000 0.6667 176.6667 11.0000  6.6667  3.6667 310.0000   \n",
       "3  117.7778   3.5556 2.7778 100.5556  2.6889 12.5892  7.6696 131.6667   \n",
       "4   92.5000   2.7500 0.1250  11.8750  2.3750 17.0000  2.6250 106.0833   \n",
       "5  108.0000   2.0000 0.4000 252.0000  0.4000 20.9000  3.1000  39.5000   \n",
       "6   50.0000   1.5000 0.0000   0.0000  0.5000 11.5000  0.0000  32.5000   \n",
       "7  110.9091   1.5455 1.0455 170.0000  0.5909 12.5000 11.3182  49.7121   \n",
       "\n",
       "   vitamins  weight   cups  \n",
       "0   30.7692  1.0000 0.8185  \n",
       "1   40.0000  1.3450 0.7100  \n",
       "2   25.0000  1.0000 0.3867  \n",
       "3   19.4444  1.0000 0.6856  \n",
       "4   12.5000  0.9788 0.8300  \n",
       "5   47.5000  1.0000 1.0380  \n",
       "6    0.0000  0.5000 1.0000  \n",
       "7   25.0000  1.0000 0.8695  "
      ]
     },
     "execution_count": 128,
     "metadata": {},
     "output_type": "execute_result"
    }
   ],
   "source": [
    "cluster_centroids = pd.DataFrame(standardizer.inverse_transform(best_kmeans.cluster_centers_),\n",
    "                                 columns=cereals.columns)\n",
    "\n",
    "cluster_centroids"
   ]
  },
  {
   "cell_type": "code",
   "execution_count": 130,
   "metadata": {
    "ExecuteTime": {
     "end_time": "2022-06-10T14:59:55.998276Z",
     "start_time": "2022-06-10T14:59:55.977723Z"
    }
   },
   "outputs": [
    {
     "data": {
      "text/html": [
       "<div>\n",
       "<style scoped>\n",
       "    .dataframe tbody tr th:only-of-type {\n",
       "        vertical-align: middle;\n",
       "    }\n",
       "\n",
       "    .dataframe tbody tr th {\n",
       "        vertical-align: top;\n",
       "    }\n",
       "\n",
       "    .dataframe thead th {\n",
       "        text-align: right;\n",
       "    }\n",
       "</style>\n",
       "<table border=\"1\" class=\"dataframe\">\n",
       "  <thead>\n",
       "    <tr style=\"text-align: right;\">\n",
       "      <th></th>\n",
       "      <th>label</th>\n",
       "      <th>kmeans_cluster</th>\n",
       "    </tr>\n",
       "  </thead>\n",
       "  <tbody>\n",
       "    <tr>\n",
       "      <th>0</th>\n",
       "      <td>100%_Bran (3-68.4)</td>\n",
       "      <td>2</td>\n",
       "    </tr>\n",
       "    <tr>\n",
       "      <th>1</th>\n",
       "      <td>100%_Natural_Bran (3-34.0)</td>\n",
       "      <td>3</td>\n",
       "    </tr>\n",
       "    <tr>\n",
       "      <th>2</th>\n",
       "      <td>All-Bran (3-59.4)</td>\n",
       "      <td>2</td>\n",
       "    </tr>\n",
       "    <tr>\n",
       "      <th>3</th>\n",
       "      <td>All-Bran_with_Extra_Fiber (3-93.7)</td>\n",
       "      <td>2</td>\n",
       "    </tr>\n",
       "    <tr>\n",
       "      <th>4</th>\n",
       "      <td>Almond_Delight (3-34.4)</td>\n",
       "      <td>7</td>\n",
       "    </tr>\n",
       "  </tbody>\n",
       "</table>\n",
       "</div>"
      ],
      "text/plain": [
       "                                label  kmeans_cluster\n",
       "0                  100%_Bran (3-68.4)               2\n",
       "1          100%_Natural_Bran (3-34.0)               3\n",
       "2                   All-Bran (3-59.4)               2\n",
       "3  All-Bran_with_Extra_Fiber (3-93.7)               2\n",
       "4             Almond_Delight (3-34.4)               7"
      ]
     },
     "execution_count": 130,
     "metadata": {},
     "output_type": "execute_result"
    }
   ],
   "source": [
    "kmeans_results = pd.DataFrame({\"label\":cereal_label['label'],\"kmeans_cluster\":best_kmeans_labels})\n",
    "kmeans_results.head()"
   ]
  },
  {
   "cell_type": "markdown",
   "metadata": {},
   "source": [
    "### Add Cluster Labels to Original Data"
   ]
  },
  {
   "cell_type": "markdown",
   "metadata": {},
   "source": [
    "### Post-Process Clusters "
   ]
  },
  {
   "cell_type": "code",
   "execution_count": 131,
   "metadata": {
    "ExecuteTime": {
     "end_time": "2022-06-10T15:01:09.493825Z",
     "start_time": "2022-06-10T15:01:09.479070Z"
    }
   },
   "outputs": [],
   "source": [
    "final_cluster_data = pd.concat([cereals,kmeans_results],axis=1)"
   ]
  },
  {
   "cell_type": "code",
   "execution_count": 132,
   "metadata": {
    "ExecuteTime": {
     "end_time": "2022-06-10T15:01:11.415410Z",
     "start_time": "2022-06-10T15:01:11.369306Z"
    }
   },
   "outputs": [
    {
     "data": {
      "text/html": [
       "<div>\n",
       "<style scoped>\n",
       "    .dataframe tbody tr th:only-of-type {\n",
       "        vertical-align: middle;\n",
       "    }\n",
       "\n",
       "    .dataframe tbody tr th {\n",
       "        vertical-align: top;\n",
       "    }\n",
       "\n",
       "    .dataframe thead th {\n",
       "        text-align: right;\n",
       "    }\n",
       "</style>\n",
       "<table border=\"1\" class=\"dataframe\">\n",
       "  <thead>\n",
       "    <tr style=\"text-align: right;\">\n",
       "      <th></th>\n",
       "      <th>kmeans_cluster</th>\n",
       "      <th>calories</th>\n",
       "      <th>protein</th>\n",
       "      <th>fat</th>\n",
       "      <th>sodium</th>\n",
       "      <th>fiber</th>\n",
       "      <th>carbo</th>\n",
       "      <th>sugars</th>\n",
       "      <th>potass</th>\n",
       "      <th>vitamins</th>\n",
       "      <th>weight</th>\n",
       "      <th>cups</th>\n",
       "    </tr>\n",
       "  </thead>\n",
       "  <tbody>\n",
       "    <tr>\n",
       "      <th>0</th>\n",
       "      <td>0</td>\n",
       "      <td>100.0000</td>\n",
       "      <td>3.3077</td>\n",
       "      <td>0.6923</td>\n",
       "      <td>198.8462</td>\n",
       "      <td>2.6923</td>\n",
       "      <td>16.0000</td>\n",
       "      <td>3.9231</td>\n",
       "      <td>104.2308</td>\n",
       "      <td>30.7692</td>\n",
       "      <td>1.0000</td>\n",
       "      <td>0.8185</td>\n",
       "    </tr>\n",
       "    <tr>\n",
       "      <th>1</th>\n",
       "      <td>1</td>\n",
       "      <td>132.0000</td>\n",
       "      <td>3.0000</td>\n",
       "      <td>1.4000</td>\n",
       "      <td>192.0000</td>\n",
       "      <td>3.6500</td>\n",
       "      <td>15.5500</td>\n",
       "      <td>10.9000</td>\n",
       "      <td>172.5000</td>\n",
       "      <td>40.0000</td>\n",
       "      <td>1.3450</td>\n",
       "      <td>0.7100</td>\n",
       "    </tr>\n",
       "    <tr>\n",
       "      <th>2</th>\n",
       "      <td>2</td>\n",
       "      <td>63.3333</td>\n",
       "      <td>4.0000</td>\n",
       "      <td>0.6667</td>\n",
       "      <td>176.6667</td>\n",
       "      <td>11.0000</td>\n",
       "      <td>6.6667</td>\n",
       "      <td>3.6667</td>\n",
       "      <td>310.0000</td>\n",
       "      <td>25.0000</td>\n",
       "      <td>1.0000</td>\n",
       "      <td>0.3867</td>\n",
       "    </tr>\n",
       "    <tr>\n",
       "      <th>3</th>\n",
       "      <td>3</td>\n",
       "      <td>117.7778</td>\n",
       "      <td>3.5556</td>\n",
       "      <td>2.7778</td>\n",
       "      <td>100.5556</td>\n",
       "      <td>2.6889</td>\n",
       "      <td>12.3125</td>\n",
       "      <td>7.7500</td>\n",
       "      <td>131.6667</td>\n",
       "      <td>19.4444</td>\n",
       "      <td>1.0000</td>\n",
       "      <td>0.6856</td>\n",
       "    </tr>\n",
       "    <tr>\n",
       "      <th>4</th>\n",
       "      <td>4</td>\n",
       "      <td>92.5000</td>\n",
       "      <td>2.7500</td>\n",
       "      <td>0.1250</td>\n",
       "      <td>11.8750</td>\n",
       "      <td>2.3750</td>\n",
       "      <td>17.0000</td>\n",
       "      <td>2.6250</td>\n",
       "      <td>107.1429</td>\n",
       "      <td>12.5000</td>\n",
       "      <td>0.9788</td>\n",
       "      <td>0.8300</td>\n",
       "    </tr>\n",
       "    <tr>\n",
       "      <th>5</th>\n",
       "      <td>5</td>\n",
       "      <td>108.0000</td>\n",
       "      <td>2.0000</td>\n",
       "      <td>0.4000</td>\n",
       "      <td>252.0000</td>\n",
       "      <td>0.4000</td>\n",
       "      <td>20.9000</td>\n",
       "      <td>3.1000</td>\n",
       "      <td>39.5000</td>\n",
       "      <td>47.5000</td>\n",
       "      <td>1.0000</td>\n",
       "      <td>1.0380</td>\n",
       "    </tr>\n",
       "    <tr>\n",
       "      <th>6</th>\n",
       "      <td>6</td>\n",
       "      <td>50.0000</td>\n",
       "      <td>1.5000</td>\n",
       "      <td>0.0000</td>\n",
       "      <td>0.0000</td>\n",
       "      <td>0.5000</td>\n",
       "      <td>11.5000</td>\n",
       "      <td>0.0000</td>\n",
       "      <td>32.5000</td>\n",
       "      <td>0.0000</td>\n",
       "      <td>0.5000</td>\n",
       "      <td>1.0000</td>\n",
       "    </tr>\n",
       "    <tr>\n",
       "      <th>7</th>\n",
       "      <td>7</td>\n",
       "      <td>110.9091</td>\n",
       "      <td>1.5455</td>\n",
       "      <td>1.0455</td>\n",
       "      <td>170.0000</td>\n",
       "      <td>0.5909</td>\n",
       "      <td>12.5000</td>\n",
       "      <td>11.3182</td>\n",
       "      <td>47.3810</td>\n",
       "      <td>25.0000</td>\n",
       "      <td>1.0000</td>\n",
       "      <td>0.8695</td>\n",
       "    </tr>\n",
       "  </tbody>\n",
       "</table>\n",
       "</div>"
      ],
      "text/plain": [
       "   kmeans_cluster  calories  protein    fat   sodium   fiber   carbo  sugars  \\\n",
       "0               0  100.0000   3.3077 0.6923 198.8462  2.6923 16.0000  3.9231   \n",
       "1               1  132.0000   3.0000 1.4000 192.0000  3.6500 15.5500 10.9000   \n",
       "2               2   63.3333   4.0000 0.6667 176.6667 11.0000  6.6667  3.6667   \n",
       "3               3  117.7778   3.5556 2.7778 100.5556  2.6889 12.3125  7.7500   \n",
       "4               4   92.5000   2.7500 0.1250  11.8750  2.3750 17.0000  2.6250   \n",
       "5               5  108.0000   2.0000 0.4000 252.0000  0.4000 20.9000  3.1000   \n",
       "6               6   50.0000   1.5000 0.0000   0.0000  0.5000 11.5000  0.0000   \n",
       "7               7  110.9091   1.5455 1.0455 170.0000  0.5909 12.5000 11.3182   \n",
       "\n",
       "    potass  vitamins  weight   cups  \n",
       "0 104.2308   30.7692  1.0000 0.8185  \n",
       "1 172.5000   40.0000  1.3450 0.7100  \n",
       "2 310.0000   25.0000  1.0000 0.3867  \n",
       "3 131.6667   19.4444  1.0000 0.6856  \n",
       "4 107.1429   12.5000  0.9788 0.8300  \n",
       "5  39.5000   47.5000  1.0000 1.0380  \n",
       "6  32.5000    0.0000  0.5000 1.0000  \n",
       "7  47.3810   25.0000  1.0000 0.8695  "
      ]
     },
     "execution_count": 132,
     "metadata": {},
     "output_type": "execute_result"
    }
   ],
   "source": [
    "analysis = final_cluster_data.groupby(['kmeans_cluster']).mean().reset_index()\n",
    "analysis"
   ]
  }
 ],
 "metadata": {
  "kernelspec": {
   "display_name": "Python 3 (ipykernel)",
   "language": "python",
   "name": "python3"
  },
  "language_info": {
   "codemirror_mode": {
    "name": "ipython",
    "version": 3
   },
   "file_extension": ".py",
   "mimetype": "text/x-python",
   "name": "python",
   "nbconvert_exporter": "python",
   "pygments_lexer": "ipython3",
   "version": "3.9.12"
  },
  "latex_envs": {
   "LaTeX_envs_menu_present": true,
   "autoclose": false,
   "autocomplete": true,
   "bibliofile": "biblio.bib",
   "cite_by": "apalike",
   "current_citInitial": 1,
   "eqLabelWithNumbers": true,
   "eqNumInitial": 1,
   "hotkeys": {
    "equation": "Ctrl-E",
    "itemize": "Ctrl-I"
   },
   "labels_anchors": false,
   "latex_user_defs": false,
   "report_style_numbering": false,
   "user_envs_cfg": false
  },
  "toc": {
   "base_numbering": 1,
   "nav_menu": {},
   "number_sections": true,
   "sideBar": true,
   "skip_h1_title": false,
   "title_cell": "Table of Contents",
   "title_sidebar": "Contents",
   "toc_cell": true,
   "toc_position": {},
   "toc_section_display": true,
   "toc_window_display": false
  }
 },
 "nbformat": 4,
 "nbformat_minor": 1
}
